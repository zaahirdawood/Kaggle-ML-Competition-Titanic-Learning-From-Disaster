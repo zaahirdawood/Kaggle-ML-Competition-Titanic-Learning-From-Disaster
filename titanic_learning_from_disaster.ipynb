{
  "nbformat": 4,
  "nbformat_minor": 0,
  "metadata": {
    "kernelspec": {
      "language": "python",
      "display_name": "Python 3",
      "name": "python3"
    },
    "language_info": {
      "pygments_lexer": "ipython3",
      "nbconvert_exporter": "python",
      "version": "3.6.4",
      "file_extension": ".py",
      "codemirror_mode": {
        "name": "ipython",
        "version": 3
      },
      "name": "python",
      "mimetype": "text/x-python"
    },
    "colab": {
      "name": "titanic-learning-from-disaster.ipynb",
      "provenance": [],
      "include_colab_link": true
    }
  },
  "cells": [
    {
      "cell_type": "markdown",
      "metadata": {
        "id": "view-in-github",
        "colab_type": "text"
      },
      "source": [
        "<a href=\"https://colab.research.google.com/github/zd341/Kaggle-Competition-Titanic-Learning-From-Disaster/blob/main/titanic_learning_from_disaster.ipynb\" target=\"_parent\"><img src=\"https://colab.research.google.com/assets/colab-badge.svg\" alt=\"Open In Colab\"/></a>"
      ]
    },
    {
      "cell_type": "markdown",
      "metadata": {
        "id": "9cVSHe_enxtl"
      },
      "source": [
        "# Connecting Google Drive"
      ]
    },
    {
      "cell_type": "code",
      "metadata": {
        "colab": {
          "base_uri": "https://localhost:8080/"
        },
        "id": "neRbgScznld6",
        "outputId": "34e3d979-f356-4586-aded-999f52d0bf26"
      },
      "source": [
        "from google.colab import drive\n",
        "drive.mount('/content/drive')"
      ],
      "execution_count": 4,
      "outputs": [
        {
          "output_type": "stream",
          "name": "stdout",
          "text": [
            "Drive already mounted at /content/drive; to attempt to forcibly remount, call drive.mount(\"/content/drive\", force_remount=True).\n"
          ]
        }
      ]
    },
    {
      "cell_type": "markdown",
      "metadata": {
        "_kg_hide-output": true,
        "id": "VmbkaolCkx-P"
      },
      "source": [
        "# Titanic Learning from Disaster"
      ]
    },
    {
      "cell_type": "code",
      "metadata": {
        "id": "9YAkr8KflFex"
      },
      "source": [
        "import numpy as np # linear algebra\n",
        "import pandas as pd # data processing, CSV file I/O (e.g. pd.read_csv)\n",
        "import matplotlib.pyplot as plt\n",
        "%matplotlib inline\n",
        "plt.style.use('ggplot')\n",
        "import seaborn as sns"
      ],
      "execution_count": 5,
      "outputs": []
    },
    {
      "cell_type": "markdown",
      "metadata": {
        "id": "W3ef7Ajdkx-W"
      },
      "source": [
        "# Data Importing & Inspection"
      ]
    },
    {
      "cell_type": "markdown",
      "metadata": {
        "id": "K4wfs6jHkx-W"
      },
      "source": [
        "### Importing Data"
      ]
    },
    {
      "cell_type": "code",
      "metadata": {
        "execution": {
          "iopub.status.busy": "2021-10-23T21:10:54.707936Z",
          "iopub.execute_input": "2021-10-23T21:10:54.708225Z",
          "iopub.status.idle": "2021-10-23T21:10:54.730667Z",
          "shell.execute_reply.started": "2021-10-23T21:10:54.708188Z",
          "shell.execute_reply": "2021-10-23T21:10:54.729951Z"
        },
        "trusted": true,
        "id": "hfIvB2pCkx-X"
      },
      "source": [
        "# Loading Data\n",
        "train= pd.read_csv('/content/drive/MyDrive/data/KAGGLE COMPETITION/train.csv')\n",
        "test = pd.read_csv('/content/drive/MyDrive/data/KAGGLE COMPETITION/test.csv')\n",
        "gender_submission = pd.read_csv('/content/drive/MyDrive/data/KAGGLE COMPETITION/gender_submission.csv')\n",
        "\n",
        "# Creating a Split for Passenger Id\n",
        "test_ids = test['PassengerId']"
      ],
      "execution_count": 6,
      "outputs": []
    },
    {
      "cell_type": "markdown",
      "metadata": {
        "id": "E0M4IQXLkx-X"
      },
      "source": [
        "### Joining Dataset "
      ]
    },
    {
      "cell_type": "code",
      "metadata": {
        "execution": {
          "iopub.status.busy": "2021-10-23T21:10:54.732324Z",
          "iopub.execute_input": "2021-10-23T21:10:54.732822Z",
          "iopub.status.idle": "2021-10-23T21:10:54.741512Z",
          "shell.execute_reply.started": "2021-10-23T21:10:54.732783Z",
          "shell.execute_reply": "2021-10-23T21:10:54.740701Z"
        },
        "trusted": true,
        "id": "CpjP2yuykx-Y"
      },
      "source": [
        "\n",
        "test = test.merge(gender_submission, on='PassengerId', how='left')"
      ],
      "execution_count": 7,
      "outputs": []
    },
    {
      "cell_type": "markdown",
      "metadata": {
        "id": "ZC_hENxukx-Z"
      },
      "source": [
        "### Inspecting Dataset"
      ]
    },
    {
      "cell_type": "code",
      "metadata": {
        "execution": {
          "iopub.status.busy": "2021-10-23T21:10:54.742868Z",
          "iopub.execute_input": "2021-10-23T21:10:54.743154Z",
          "iopub.status.idle": "2021-10-23T21:10:54.763189Z",
          "shell.execute_reply.started": "2021-10-23T21:10:54.743113Z",
          "shell.execute_reply": "2021-10-23T21:10:54.762427Z"
        },
        "trusted": true,
        "colab": {
          "base_uri": "https://localhost:8080/",
          "height": 205
        },
        "id": "FZOgblz3kx-Z",
        "outputId": "6036fc09-9a48-4ffd-db0f-e4e49ca1ccde"
      },
      "source": [
        "train.head()"
      ],
      "execution_count": 8,
      "outputs": [
        {
          "output_type": "execute_result",
          "data": {
            "text/html": [
              "<div>\n",
              "<style scoped>\n",
              "    .dataframe tbody tr th:only-of-type {\n",
              "        vertical-align: middle;\n",
              "    }\n",
              "\n",
              "    .dataframe tbody tr th {\n",
              "        vertical-align: top;\n",
              "    }\n",
              "\n",
              "    .dataframe thead th {\n",
              "        text-align: right;\n",
              "    }\n",
              "</style>\n",
              "<table border=\"1\" class=\"dataframe\">\n",
              "  <thead>\n",
              "    <tr style=\"text-align: right;\">\n",
              "      <th></th>\n",
              "      <th>PassengerId</th>\n",
              "      <th>Survived</th>\n",
              "      <th>Pclass</th>\n",
              "      <th>Name</th>\n",
              "      <th>Sex</th>\n",
              "      <th>Age</th>\n",
              "      <th>SibSp</th>\n",
              "      <th>Parch</th>\n",
              "      <th>Ticket</th>\n",
              "      <th>Fare</th>\n",
              "      <th>Cabin</th>\n",
              "      <th>Embarked</th>\n",
              "    </tr>\n",
              "  </thead>\n",
              "  <tbody>\n",
              "    <tr>\n",
              "      <th>0</th>\n",
              "      <td>1</td>\n",
              "      <td>0</td>\n",
              "      <td>3</td>\n",
              "      <td>Braund, Mr. Owen Harris</td>\n",
              "      <td>male</td>\n",
              "      <td>22.0</td>\n",
              "      <td>1</td>\n",
              "      <td>0</td>\n",
              "      <td>A/5 21171</td>\n",
              "      <td>7.2500</td>\n",
              "      <td>NaN</td>\n",
              "      <td>S</td>\n",
              "    </tr>\n",
              "    <tr>\n",
              "      <th>1</th>\n",
              "      <td>2</td>\n",
              "      <td>1</td>\n",
              "      <td>1</td>\n",
              "      <td>Cumings, Mrs. John Bradley (Florence Briggs Th...</td>\n",
              "      <td>female</td>\n",
              "      <td>38.0</td>\n",
              "      <td>1</td>\n",
              "      <td>0</td>\n",
              "      <td>PC 17599</td>\n",
              "      <td>71.2833</td>\n",
              "      <td>C85</td>\n",
              "      <td>C</td>\n",
              "    </tr>\n",
              "    <tr>\n",
              "      <th>2</th>\n",
              "      <td>3</td>\n",
              "      <td>1</td>\n",
              "      <td>3</td>\n",
              "      <td>Heikkinen, Miss. Laina</td>\n",
              "      <td>female</td>\n",
              "      <td>26.0</td>\n",
              "      <td>0</td>\n",
              "      <td>0</td>\n",
              "      <td>STON/O2. 3101282</td>\n",
              "      <td>7.9250</td>\n",
              "      <td>NaN</td>\n",
              "      <td>S</td>\n",
              "    </tr>\n",
              "    <tr>\n",
              "      <th>3</th>\n",
              "      <td>4</td>\n",
              "      <td>1</td>\n",
              "      <td>1</td>\n",
              "      <td>Futrelle, Mrs. Jacques Heath (Lily May Peel)</td>\n",
              "      <td>female</td>\n",
              "      <td>35.0</td>\n",
              "      <td>1</td>\n",
              "      <td>0</td>\n",
              "      <td>113803</td>\n",
              "      <td>53.1000</td>\n",
              "      <td>C123</td>\n",
              "      <td>S</td>\n",
              "    </tr>\n",
              "    <tr>\n",
              "      <th>4</th>\n",
              "      <td>5</td>\n",
              "      <td>0</td>\n",
              "      <td>3</td>\n",
              "      <td>Allen, Mr. William Henry</td>\n",
              "      <td>male</td>\n",
              "      <td>35.0</td>\n",
              "      <td>0</td>\n",
              "      <td>0</td>\n",
              "      <td>373450</td>\n",
              "      <td>8.0500</td>\n",
              "      <td>NaN</td>\n",
              "      <td>S</td>\n",
              "    </tr>\n",
              "  </tbody>\n",
              "</table>\n",
              "</div>"
            ],
            "text/plain": [
              "   PassengerId  Survived  Pclass  ...     Fare Cabin  Embarked\n",
              "0            1         0       3  ...   7.2500   NaN         S\n",
              "1            2         1       1  ...  71.2833   C85         C\n",
              "2            3         1       3  ...   7.9250   NaN         S\n",
              "3            4         1       1  ...  53.1000  C123         S\n",
              "4            5         0       3  ...   8.0500   NaN         S\n",
              "\n",
              "[5 rows x 12 columns]"
            ]
          },
          "metadata": {},
          "execution_count": 8
        }
      ]
    },
    {
      "cell_type": "markdown",
      "metadata": {
        "id": "tbOpgCwGkx-a"
      },
      "source": [
        "### Getting Columns and Shapes"
      ]
    },
    {
      "cell_type": "code",
      "metadata": {
        "execution": {
          "iopub.status.busy": "2021-10-23T21:10:54.766332Z",
          "iopub.execute_input": "2021-10-23T21:10:54.766546Z",
          "iopub.status.idle": "2021-10-23T21:10:54.772829Z",
          "shell.execute_reply.started": "2021-10-23T21:10:54.766521Z",
          "shell.execute_reply": "2021-10-23T21:10:54.771926Z"
        },
        "trusted": true,
        "colab": {
          "base_uri": "https://localhost:8080/"
        },
        "id": "7H0E1a8ikx-a",
        "outputId": "4b868afd-3e28-4bf5-fc1a-508e3a4744fa"
      },
      "source": [
        "train.columns, train.shape"
      ],
      "execution_count": 9,
      "outputs": [
        {
          "output_type": "execute_result",
          "data": {
            "text/plain": [
              "(Index(['PassengerId', 'Survived', 'Pclass', 'Name', 'Sex', 'Age', 'SibSp',\n",
              "        'Parch', 'Ticket', 'Fare', 'Cabin', 'Embarked'],\n",
              "       dtype='object'), (891, 12))"
            ]
          },
          "metadata": {},
          "execution_count": 9
        }
      ]
    },
    {
      "cell_type": "markdown",
      "metadata": {
        "id": "1QGdxO2kkx-b"
      },
      "source": [
        "### Getting Information about Datatypes"
      ]
    },
    {
      "cell_type": "code",
      "metadata": {
        "execution": {
          "iopub.status.busy": "2021-10-23T21:10:54.774531Z",
          "iopub.execute_input": "2021-10-23T21:10:54.775554Z",
          "iopub.status.idle": "2021-10-23T21:10:54.791732Z",
          "shell.execute_reply.started": "2021-10-23T21:10:54.77551Z",
          "shell.execute_reply": "2021-10-23T21:10:54.790874Z"
        },
        "trusted": true,
        "colab": {
          "base_uri": "https://localhost:8080/"
        },
        "id": "Pxli8XCEkx-b",
        "outputId": "f1f7dcf9-a38b-4861-af3b-7e01eb78a10c"
      },
      "source": [
        "train.info()"
      ],
      "execution_count": 10,
      "outputs": [
        {
          "output_type": "stream",
          "name": "stdout",
          "text": [
            "<class 'pandas.core.frame.DataFrame'>\n",
            "RangeIndex: 891 entries, 0 to 890\n",
            "Data columns (total 12 columns):\n",
            " #   Column       Non-Null Count  Dtype  \n",
            "---  ------       --------------  -----  \n",
            " 0   PassengerId  891 non-null    int64  \n",
            " 1   Survived     891 non-null    int64  \n",
            " 2   Pclass       891 non-null    int64  \n",
            " 3   Name         891 non-null    object \n",
            " 4   Sex          891 non-null    object \n",
            " 5   Age          714 non-null    float64\n",
            " 6   SibSp        891 non-null    int64  \n",
            " 7   Parch        891 non-null    int64  \n",
            " 8   Ticket       891 non-null    object \n",
            " 9   Fare         891 non-null    float64\n",
            " 10  Cabin        204 non-null    object \n",
            " 11  Embarked     889 non-null    object \n",
            "dtypes: float64(2), int64(5), object(5)\n",
            "memory usage: 83.7+ KB\n"
          ]
        }
      ]
    },
    {
      "cell_type": "markdown",
      "metadata": {
        "id": "bLrsJ-u0kx-b"
      },
      "source": [
        "### Data Type Conversion"
      ]
    },
    {
      "cell_type": "code",
      "metadata": {
        "execution": {
          "iopub.status.busy": "2021-10-23T21:10:54.793034Z",
          "iopub.execute_input": "2021-10-23T21:10:54.793857Z",
          "iopub.status.idle": "2021-10-23T21:10:54.837173Z",
          "shell.execute_reply.started": "2021-10-23T21:10:54.793815Z",
          "shell.execute_reply": "2021-10-23T21:10:54.83623Z"
        },
        "trusted": true,
        "colab": {
          "base_uri": "https://localhost:8080/",
          "height": 422
        },
        "id": "UyS2MeBtkx-c",
        "outputId": "86808eba-156d-42a5-8a13-882762ff8067"
      },
      "source": [
        "train[['Survived','Pclass','Sex','SibSp','Embarked']] = train[['Survived','Pclass','Sex','SibSp','Embarked']].astype('category')\n",
        "train"
      ],
      "execution_count": 11,
      "outputs": [
        {
          "output_type": "execute_result",
          "data": {
            "text/html": [
              "<div>\n",
              "<style scoped>\n",
              "    .dataframe tbody tr th:only-of-type {\n",
              "        vertical-align: middle;\n",
              "    }\n",
              "\n",
              "    .dataframe tbody tr th {\n",
              "        vertical-align: top;\n",
              "    }\n",
              "\n",
              "    .dataframe thead th {\n",
              "        text-align: right;\n",
              "    }\n",
              "</style>\n",
              "<table border=\"1\" class=\"dataframe\">\n",
              "  <thead>\n",
              "    <tr style=\"text-align: right;\">\n",
              "      <th></th>\n",
              "      <th>PassengerId</th>\n",
              "      <th>Survived</th>\n",
              "      <th>Pclass</th>\n",
              "      <th>Name</th>\n",
              "      <th>Sex</th>\n",
              "      <th>Age</th>\n",
              "      <th>SibSp</th>\n",
              "      <th>Parch</th>\n",
              "      <th>Ticket</th>\n",
              "      <th>Fare</th>\n",
              "      <th>Cabin</th>\n",
              "      <th>Embarked</th>\n",
              "    </tr>\n",
              "  </thead>\n",
              "  <tbody>\n",
              "    <tr>\n",
              "      <th>0</th>\n",
              "      <td>1</td>\n",
              "      <td>0</td>\n",
              "      <td>3</td>\n",
              "      <td>Braund, Mr. Owen Harris</td>\n",
              "      <td>male</td>\n",
              "      <td>22.0</td>\n",
              "      <td>1</td>\n",
              "      <td>0</td>\n",
              "      <td>A/5 21171</td>\n",
              "      <td>7.2500</td>\n",
              "      <td>NaN</td>\n",
              "      <td>S</td>\n",
              "    </tr>\n",
              "    <tr>\n",
              "      <th>1</th>\n",
              "      <td>2</td>\n",
              "      <td>1</td>\n",
              "      <td>1</td>\n",
              "      <td>Cumings, Mrs. John Bradley (Florence Briggs Th...</td>\n",
              "      <td>female</td>\n",
              "      <td>38.0</td>\n",
              "      <td>1</td>\n",
              "      <td>0</td>\n",
              "      <td>PC 17599</td>\n",
              "      <td>71.2833</td>\n",
              "      <td>C85</td>\n",
              "      <td>C</td>\n",
              "    </tr>\n",
              "    <tr>\n",
              "      <th>2</th>\n",
              "      <td>3</td>\n",
              "      <td>1</td>\n",
              "      <td>3</td>\n",
              "      <td>Heikkinen, Miss. Laina</td>\n",
              "      <td>female</td>\n",
              "      <td>26.0</td>\n",
              "      <td>0</td>\n",
              "      <td>0</td>\n",
              "      <td>STON/O2. 3101282</td>\n",
              "      <td>7.9250</td>\n",
              "      <td>NaN</td>\n",
              "      <td>S</td>\n",
              "    </tr>\n",
              "    <tr>\n",
              "      <th>3</th>\n",
              "      <td>4</td>\n",
              "      <td>1</td>\n",
              "      <td>1</td>\n",
              "      <td>Futrelle, Mrs. Jacques Heath (Lily May Peel)</td>\n",
              "      <td>female</td>\n",
              "      <td>35.0</td>\n",
              "      <td>1</td>\n",
              "      <td>0</td>\n",
              "      <td>113803</td>\n",
              "      <td>53.1000</td>\n",
              "      <td>C123</td>\n",
              "      <td>S</td>\n",
              "    </tr>\n",
              "    <tr>\n",
              "      <th>4</th>\n",
              "      <td>5</td>\n",
              "      <td>0</td>\n",
              "      <td>3</td>\n",
              "      <td>Allen, Mr. William Henry</td>\n",
              "      <td>male</td>\n",
              "      <td>35.0</td>\n",
              "      <td>0</td>\n",
              "      <td>0</td>\n",
              "      <td>373450</td>\n",
              "      <td>8.0500</td>\n",
              "      <td>NaN</td>\n",
              "      <td>S</td>\n",
              "    </tr>\n",
              "    <tr>\n",
              "      <th>...</th>\n",
              "      <td>...</td>\n",
              "      <td>...</td>\n",
              "      <td>...</td>\n",
              "      <td>...</td>\n",
              "      <td>...</td>\n",
              "      <td>...</td>\n",
              "      <td>...</td>\n",
              "      <td>...</td>\n",
              "      <td>...</td>\n",
              "      <td>...</td>\n",
              "      <td>...</td>\n",
              "      <td>...</td>\n",
              "    </tr>\n",
              "    <tr>\n",
              "      <th>886</th>\n",
              "      <td>887</td>\n",
              "      <td>0</td>\n",
              "      <td>2</td>\n",
              "      <td>Montvila, Rev. Juozas</td>\n",
              "      <td>male</td>\n",
              "      <td>27.0</td>\n",
              "      <td>0</td>\n",
              "      <td>0</td>\n",
              "      <td>211536</td>\n",
              "      <td>13.0000</td>\n",
              "      <td>NaN</td>\n",
              "      <td>S</td>\n",
              "    </tr>\n",
              "    <tr>\n",
              "      <th>887</th>\n",
              "      <td>888</td>\n",
              "      <td>1</td>\n",
              "      <td>1</td>\n",
              "      <td>Graham, Miss. Margaret Edith</td>\n",
              "      <td>female</td>\n",
              "      <td>19.0</td>\n",
              "      <td>0</td>\n",
              "      <td>0</td>\n",
              "      <td>112053</td>\n",
              "      <td>30.0000</td>\n",
              "      <td>B42</td>\n",
              "      <td>S</td>\n",
              "    </tr>\n",
              "    <tr>\n",
              "      <th>888</th>\n",
              "      <td>889</td>\n",
              "      <td>0</td>\n",
              "      <td>3</td>\n",
              "      <td>Johnston, Miss. Catherine Helen \"Carrie\"</td>\n",
              "      <td>female</td>\n",
              "      <td>NaN</td>\n",
              "      <td>1</td>\n",
              "      <td>2</td>\n",
              "      <td>W./C. 6607</td>\n",
              "      <td>23.4500</td>\n",
              "      <td>NaN</td>\n",
              "      <td>S</td>\n",
              "    </tr>\n",
              "    <tr>\n",
              "      <th>889</th>\n",
              "      <td>890</td>\n",
              "      <td>1</td>\n",
              "      <td>1</td>\n",
              "      <td>Behr, Mr. Karl Howell</td>\n",
              "      <td>male</td>\n",
              "      <td>26.0</td>\n",
              "      <td>0</td>\n",
              "      <td>0</td>\n",
              "      <td>111369</td>\n",
              "      <td>30.0000</td>\n",
              "      <td>C148</td>\n",
              "      <td>C</td>\n",
              "    </tr>\n",
              "    <tr>\n",
              "      <th>890</th>\n",
              "      <td>891</td>\n",
              "      <td>0</td>\n",
              "      <td>3</td>\n",
              "      <td>Dooley, Mr. Patrick</td>\n",
              "      <td>male</td>\n",
              "      <td>32.0</td>\n",
              "      <td>0</td>\n",
              "      <td>0</td>\n",
              "      <td>370376</td>\n",
              "      <td>7.7500</td>\n",
              "      <td>NaN</td>\n",
              "      <td>Q</td>\n",
              "    </tr>\n",
              "  </tbody>\n",
              "</table>\n",
              "<p>891 rows × 12 columns</p>\n",
              "</div>"
            ],
            "text/plain": [
              "     PassengerId Survived Pclass  ...     Fare Cabin  Embarked\n",
              "0              1        0      3  ...   7.2500   NaN         S\n",
              "1              2        1      1  ...  71.2833   C85         C\n",
              "2              3        1      3  ...   7.9250   NaN         S\n",
              "3              4        1      1  ...  53.1000  C123         S\n",
              "4              5        0      3  ...   8.0500   NaN         S\n",
              "..           ...      ...    ...  ...      ...   ...       ...\n",
              "886          887        0      2  ...  13.0000   NaN         S\n",
              "887          888        1      1  ...  30.0000   B42         S\n",
              "888          889        0      3  ...  23.4500   NaN         S\n",
              "889          890        1      1  ...  30.0000  C148         C\n",
              "890          891        0      3  ...   7.7500   NaN         Q\n",
              "\n",
              "[891 rows x 12 columns]"
            ]
          },
          "metadata": {},
          "execution_count": 11
        }
      ]
    },
    {
      "cell_type": "markdown",
      "metadata": {
        "id": "YIuvkrU3kx-c"
      },
      "source": [
        "### Describe Numerical Features"
      ]
    },
    {
      "cell_type": "code",
      "metadata": {
        "execution": {
          "iopub.status.busy": "2021-10-23T21:10:54.838542Z",
          "iopub.execute_input": "2021-10-23T21:10:54.838875Z",
          "iopub.status.idle": "2021-10-23T21:10:54.866033Z",
          "shell.execute_reply.started": "2021-10-23T21:10:54.838832Z",
          "shell.execute_reply": "2021-10-23T21:10:54.86528Z"
        },
        "trusted": true,
        "colab": {
          "base_uri": "https://localhost:8080/",
          "height": 112
        },
        "id": "-xDj_Wcvkx-c",
        "outputId": "4c6e40ad-a071-4031-a832-daa403e34050"
      },
      "source": [
        "train[['Age','Fare']].describe().T"
      ],
      "execution_count": 12,
      "outputs": [
        {
          "output_type": "execute_result",
          "data": {
            "text/html": [
              "<div>\n",
              "<style scoped>\n",
              "    .dataframe tbody tr th:only-of-type {\n",
              "        vertical-align: middle;\n",
              "    }\n",
              "\n",
              "    .dataframe tbody tr th {\n",
              "        vertical-align: top;\n",
              "    }\n",
              "\n",
              "    .dataframe thead th {\n",
              "        text-align: right;\n",
              "    }\n",
              "</style>\n",
              "<table border=\"1\" class=\"dataframe\">\n",
              "  <thead>\n",
              "    <tr style=\"text-align: right;\">\n",
              "      <th></th>\n",
              "      <th>count</th>\n",
              "      <th>mean</th>\n",
              "      <th>std</th>\n",
              "      <th>min</th>\n",
              "      <th>25%</th>\n",
              "      <th>50%</th>\n",
              "      <th>75%</th>\n",
              "      <th>max</th>\n",
              "    </tr>\n",
              "  </thead>\n",
              "  <tbody>\n",
              "    <tr>\n",
              "      <th>Age</th>\n",
              "      <td>714.0</td>\n",
              "      <td>29.699118</td>\n",
              "      <td>14.526497</td>\n",
              "      <td>0.42</td>\n",
              "      <td>20.1250</td>\n",
              "      <td>28.0000</td>\n",
              "      <td>38.0</td>\n",
              "      <td>80.0000</td>\n",
              "    </tr>\n",
              "    <tr>\n",
              "      <th>Fare</th>\n",
              "      <td>891.0</td>\n",
              "      <td>32.204208</td>\n",
              "      <td>49.693429</td>\n",
              "      <td>0.00</td>\n",
              "      <td>7.9104</td>\n",
              "      <td>14.4542</td>\n",
              "      <td>31.0</td>\n",
              "      <td>512.3292</td>\n",
              "    </tr>\n",
              "  </tbody>\n",
              "</table>\n",
              "</div>"
            ],
            "text/plain": [
              "      count       mean        std   min      25%      50%   75%       max\n",
              "Age   714.0  29.699118  14.526497  0.42  20.1250  28.0000  38.0   80.0000\n",
              "Fare  891.0  32.204208  49.693429  0.00   7.9104  14.4542  31.0  512.3292"
            ]
          },
          "metadata": {},
          "execution_count": 12
        }
      ]
    },
    {
      "cell_type": "markdown",
      "metadata": {
        "id": "f4uUGsT-kx-c"
      },
      "source": [
        "### Checking Value Counts for Passengers That Survived"
      ]
    },
    {
      "cell_type": "code",
      "metadata": {
        "execution": {
          "iopub.status.busy": "2021-10-23T21:10:54.867176Z",
          "iopub.execute_input": "2021-10-23T21:10:54.867423Z",
          "iopub.status.idle": "2021-10-23T21:10:54.876643Z",
          "shell.execute_reply.started": "2021-10-23T21:10:54.867385Z",
          "shell.execute_reply": "2021-10-23T21:10:54.875629Z"
        },
        "trusted": true,
        "colab": {
          "base_uri": "https://localhost:8080/"
        },
        "id": "P453Opd-kx-d",
        "outputId": "3564e13f-cd98-477d-f7ce-c356ec19ff05"
      },
      "source": [
        "print(train['Survived'].value_counts() / len(train) * 100)"
      ],
      "execution_count": 13,
      "outputs": [
        {
          "output_type": "stream",
          "name": "stdout",
          "text": [
            "0    61.616162\n",
            "1    38.383838\n",
            "Name: Survived, dtype: float64\n"
          ]
        }
      ]
    },
    {
      "cell_type": "markdown",
      "metadata": {
        "id": "qjdxVN8Nkx-d"
      },
      "source": [
        "### Checking Value Counts for Passenger Class"
      ]
    },
    {
      "cell_type": "code",
      "metadata": {
        "execution": {
          "iopub.status.busy": "2021-10-23T21:10:54.880381Z",
          "iopub.execute_input": "2021-10-23T21:10:54.880615Z",
          "iopub.status.idle": "2021-10-23T21:10:54.888068Z",
          "shell.execute_reply.started": "2021-10-23T21:10:54.880589Z",
          "shell.execute_reply": "2021-10-23T21:10:54.88709Z"
        },
        "trusted": true,
        "colab": {
          "base_uri": "https://localhost:8080/"
        },
        "id": "-bIDA8qOkx-d",
        "outputId": "1cc69b15-cc16-4de1-de23-8b6be5e58c84"
      },
      "source": [
        "print(train['Pclass'].value_counts() / len(train) * 100)"
      ],
      "execution_count": 14,
      "outputs": [
        {
          "output_type": "stream",
          "name": "stdout",
          "text": [
            "3    55.106622\n",
            "1    24.242424\n",
            "2    20.650954\n",
            "Name: Pclass, dtype: float64\n"
          ]
        }
      ]
    },
    {
      "cell_type": "markdown",
      "metadata": {
        "id": "NeNVz9Onkx-d"
      },
      "source": [
        "### Checking Value Counts for Passengers Gender"
      ]
    },
    {
      "cell_type": "code",
      "metadata": {
        "execution": {
          "iopub.status.busy": "2021-10-23T21:10:54.889902Z",
          "iopub.execute_input": "2021-10-23T21:10:54.890393Z",
          "iopub.status.idle": "2021-10-23T21:10:54.90061Z",
          "shell.execute_reply.started": "2021-10-23T21:10:54.890352Z",
          "shell.execute_reply": "2021-10-23T21:10:54.899605Z"
        },
        "trusted": true,
        "colab": {
          "base_uri": "https://localhost:8080/"
        },
        "id": "TXtB6E7Dkx-e",
        "outputId": "d5723ca3-1063-4dc4-e3c8-10979e3550f0"
      },
      "source": [
        "print(train['Sex'].value_counts() / len(train) * 100)"
      ],
      "execution_count": 15,
      "outputs": [
        {
          "output_type": "stream",
          "name": "stdout",
          "text": [
            "male      64.758698\n",
            "female    35.241302\n",
            "Name: Sex, dtype: float64\n"
          ]
        }
      ]
    },
    {
      "cell_type": "markdown",
      "metadata": {
        "id": "C8PFR54kkx-e"
      },
      "source": [
        "### Checking Value Counts for For Place of Embarkment"
      ]
    },
    {
      "cell_type": "code",
      "metadata": {
        "execution": {
          "iopub.status.busy": "2021-10-23T21:10:54.902756Z",
          "iopub.execute_input": "2021-10-23T21:10:54.903348Z",
          "iopub.status.idle": "2021-10-23T21:10:54.912224Z",
          "shell.execute_reply.started": "2021-10-23T21:10:54.90331Z",
          "shell.execute_reply": "2021-10-23T21:10:54.910809Z"
        },
        "trusted": true,
        "colab": {
          "base_uri": "https://localhost:8080/"
        },
        "id": "yV1AFNWAkx-e",
        "outputId": "ef1ebfd2-ba33-4572-a9bf-6534e71da46d"
      },
      "source": [
        "print(train['Embarked'].value_counts() / len(train) * 100)"
      ],
      "execution_count": 16,
      "outputs": [
        {
          "output_type": "stream",
          "name": "stdout",
          "text": [
            "S    72.278339\n",
            "C    18.855219\n",
            "Q     8.641975\n",
            "Name: Embarked, dtype: float64\n"
          ]
        }
      ]
    },
    {
      "cell_type": "markdown",
      "metadata": {
        "id": "gQ9nm8IYkx-e"
      },
      "source": [
        "# Data Cleaning & Preparation"
      ]
    },
    {
      "cell_type": "markdown",
      "metadata": {
        "id": "XjTfCSS5kx-e"
      },
      "source": [
        "## Removing Missing Rows From Training and Test Sets\n",
        "\n",
        "**Data Quality Issues**\n",
        "\n",
        "* Return for Imputation\n",
        "* Get Histogram to estimate distribution of Missing Ages \n",
        "* Thinking about missingness in terms of whether the data is missing at random\n",
        "* Deal with missingness \n",
        "* Converting Categories into Numerical Data \n",
        "\n",
        "\n"
      ]
    },
    {
      "cell_type": "markdown",
      "metadata": {
        "id": "yJpjIbGrkx-f"
      },
      "source": [
        "### Getting Information about Missing Data Types "
      ]
    },
    {
      "cell_type": "code",
      "metadata": {
        "execution": {
          "iopub.status.busy": "2021-10-23T21:10:54.914422Z",
          "iopub.execute_input": "2021-10-23T21:10:54.914866Z",
          "iopub.status.idle": "2021-10-23T21:10:54.922837Z",
          "shell.execute_reply.started": "2021-10-23T21:10:54.914814Z",
          "shell.execute_reply": "2021-10-23T21:10:54.921801Z"
        },
        "trusted": true,
        "colab": {
          "base_uri": "https://localhost:8080/"
        },
        "id": "kdS_8L9Pkx-f",
        "outputId": "bff87884-6bbd-44d1-d24a-09e515db79c3"
      },
      "source": [
        "train['Age'].isna().sum(), test['Age'].isna().sum()"
      ],
      "execution_count": 17,
      "outputs": [
        {
          "output_type": "execute_result",
          "data": {
            "text/plain": [
              "(177, 86)"
            ]
          },
          "metadata": {},
          "execution_count": 17
        }
      ]
    },
    {
      "cell_type": "code",
      "metadata": {
        "execution": {
          "iopub.status.busy": "2021-10-23T21:10:54.924881Z",
          "iopub.execute_input": "2021-10-23T21:10:54.925588Z",
          "iopub.status.idle": "2021-10-23T21:10:54.9392Z",
          "shell.execute_reply.started": "2021-10-23T21:10:54.925549Z",
          "shell.execute_reply": "2021-10-23T21:10:54.938085Z"
        },
        "trusted": true,
        "colab": {
          "base_uri": "https://localhost:8080/"
        },
        "id": "vaaM3-0Rkx-f",
        "outputId": "73ea941b-1cac-4032-ec49-f6e8051e25bc"
      },
      "source": [
        "train.isna().sum()"
      ],
      "execution_count": 18,
      "outputs": [
        {
          "output_type": "execute_result",
          "data": {
            "text/plain": [
              "PassengerId      0\n",
              "Survived         0\n",
              "Pclass           0\n",
              "Name             0\n",
              "Sex              0\n",
              "Age            177\n",
              "SibSp            0\n",
              "Parch            0\n",
              "Ticket           0\n",
              "Fare             0\n",
              "Cabin          687\n",
              "Embarked         2\n",
              "dtype: int64"
            ]
          },
          "metadata": {},
          "execution_count": 18
        }
      ]
    },
    {
      "cell_type": "markdown",
      "metadata": {
        "id": "hgZmzGBGkx-f"
      },
      "source": [
        "### Proportion of Missing Data"
      ]
    },
    {
      "cell_type": "code",
      "metadata": {
        "execution": {
          "iopub.status.busy": "2021-10-23T21:10:54.941064Z",
          "iopub.execute_input": "2021-10-23T21:10:54.941703Z",
          "iopub.status.idle": "2021-10-23T21:10:54.95782Z",
          "shell.execute_reply.started": "2021-10-23T21:10:54.941656Z",
          "shell.execute_reply": "2021-10-23T21:10:54.95684Z"
        },
        "trusted": true,
        "colab": {
          "base_uri": "https://localhost:8080/"
        },
        "id": "umNbEfJIkx-f",
        "outputId": "76f63a7b-8e4a-4fe1-ffc6-49caa5863be2"
      },
      "source": [
        "(train.isna().sum()) / len(train) * 100"
      ],
      "execution_count": 19,
      "outputs": [
        {
          "output_type": "execute_result",
          "data": {
            "text/plain": [
              "PassengerId     0.000000\n",
              "Survived        0.000000\n",
              "Pclass          0.000000\n",
              "Name            0.000000\n",
              "Sex             0.000000\n",
              "Age            19.865320\n",
              "SibSp           0.000000\n",
              "Parch           0.000000\n",
              "Ticket          0.000000\n",
              "Fare            0.000000\n",
              "Cabin          77.104377\n",
              "Embarked        0.224467\n",
              "dtype: float64"
            ]
          },
          "metadata": {},
          "execution_count": 19
        }
      ]
    },
    {
      "cell_type": "code",
      "metadata": {
        "execution": {
          "iopub.status.busy": "2021-10-23T21:10:54.959429Z",
          "iopub.execute_input": "2021-10-23T21:10:54.960005Z",
          "iopub.status.idle": "2021-10-23T21:10:54.966285Z",
          "shell.execute_reply.started": "2021-10-23T21:10:54.959959Z",
          "shell.execute_reply": "2021-10-23T21:10:54.965374Z"
        },
        "trusted": true,
        "id": "Zl8hAET1kx-g"
      },
      "source": [
        "def missing(df):\n",
        "    na = df.isna().sum()/ len(df)\n",
        "    na = na[na >0].sort_values()\n",
        "    return na\n",
        "    "
      ],
      "execution_count": 20,
      "outputs": []
    },
    {
      "cell_type": "code",
      "metadata": {
        "execution": {
          "iopub.status.busy": "2021-10-23T21:10:54.968089Z",
          "iopub.execute_input": "2021-10-23T21:10:54.968728Z",
          "iopub.status.idle": "2021-10-23T21:10:54.981798Z",
          "shell.execute_reply.started": "2021-10-23T21:10:54.968689Z",
          "shell.execute_reply": "2021-10-23T21:10:54.980864Z"
        },
        "trusted": true,
        "id": "C66OuclWkx-g"
      },
      "source": [
        "missing_dat_train = missing(train)"
      ],
      "execution_count": 21,
      "outputs": []
    },
    {
      "cell_type": "markdown",
      "metadata": {
        "id": "iNjZXTiGkx-g"
      },
      "source": [
        "### Visualising Missing Data"
      ]
    },
    {
      "cell_type": "code",
      "metadata": {
        "execution": {
          "iopub.status.busy": "2021-10-23T21:10:54.983238Z",
          "iopub.execute_input": "2021-10-23T21:10:54.983532Z",
          "iopub.status.idle": "2021-10-23T21:10:55.214057Z",
          "shell.execute_reply.started": "2021-10-23T21:10:54.983496Z",
          "shell.execute_reply": "2021-10-23T21:10:55.213326Z"
        },
        "trusted": true,
        "colab": {
          "base_uri": "https://localhost:8080/",
          "height": 431
        },
        "id": "h5FXRUJPkx-g",
        "outputId": "3af711bf-963a-406d-8394-c74371ea9220"
      },
      "source": [
        "plt.figure(figsize=(12,6))\n",
        "sns.barplot(x=missing_dat_train.index, y=missing_dat_train)\n",
        "plt.xticks(rotation=90)"
      ],
      "execution_count": 22,
      "outputs": [
        {
          "output_type": "execute_result",
          "data": {
            "text/plain": [
              "(array([0, 1, 2]), <a list of 3 Text major ticklabel objects>)"
            ]
          },
          "metadata": {},
          "execution_count": 22
        },
        {
          "output_type": "display_data",
          "data": {
            "image/png": "[encoded data removed]",
            "text/plain": [
              "<Figure size 864x432 with 1 Axes>"
            ]
          },
          "metadata": {}
        }
      ]
    },
    {
      "cell_type": "code",
      "metadata": {
        "execution": {
          "iopub.status.busy": "2021-10-23T21:10:55.215576Z",
          "iopub.execute_input": "2021-10-23T21:10:55.215853Z",
          "iopub.status.idle": "2021-10-23T21:10:55.234942Z",
          "shell.execute_reply.started": "2021-10-23T21:10:55.215816Z",
          "shell.execute_reply": "2021-10-23T21:10:55.234164Z"
        },
        "trusted": true,
        "colab": {
          "base_uri": "https://localhost:8080/",
          "height": 112
        },
        "id": "iv4SXpFBkx-g",
        "outputId": "3f6e9ce9-67e9-4f2d-c128-0c407f860c86"
      },
      "source": [
        "train[train['Embarked'].isnull()]"
      ],
      "execution_count": 23,
      "outputs": [
        {
          "output_type": "execute_result",
          "data": {
            "text/html": [
              "<div>\n",
              "<style scoped>\n",
              "    .dataframe tbody tr th:only-of-type {\n",
              "        vertical-align: middle;\n",
              "    }\n",
              "\n",
              "    .dataframe tbody tr th {\n",
              "        vertical-align: top;\n",
              "    }\n",
              "\n",
              "    .dataframe thead th {\n",
              "        text-align: right;\n",
              "    }\n",
              "</style>\n",
              "<table border=\"1\" class=\"dataframe\">\n",
              "  <thead>\n",
              "    <tr style=\"text-align: right;\">\n",
              "      <th></th>\n",
              "      <th>PassengerId</th>\n",
              "      <th>Survived</th>\n",
              "      <th>Pclass</th>\n",
              "      <th>Name</th>\n",
              "      <th>Sex</th>\n",
              "      <th>Age</th>\n",
              "      <th>SibSp</th>\n",
              "      <th>Parch</th>\n",
              "      <th>Ticket</th>\n",
              "      <th>Fare</th>\n",
              "      <th>Cabin</th>\n",
              "      <th>Embarked</th>\n",
              "    </tr>\n",
              "  </thead>\n",
              "  <tbody>\n",
              "    <tr>\n",
              "      <th>61</th>\n",
              "      <td>62</td>\n",
              "      <td>1</td>\n",
              "      <td>1</td>\n",
              "      <td>Icard, Miss. Amelie</td>\n",
              "      <td>female</td>\n",
              "      <td>38.0</td>\n",
              "      <td>0</td>\n",
              "      <td>0</td>\n",
              "      <td>113572</td>\n",
              "      <td>80.0</td>\n",
              "      <td>B28</td>\n",
              "      <td>NaN</td>\n",
              "    </tr>\n",
              "    <tr>\n",
              "      <th>829</th>\n",
              "      <td>830</td>\n",
              "      <td>1</td>\n",
              "      <td>1</td>\n",
              "      <td>Stone, Mrs. George Nelson (Martha Evelyn)</td>\n",
              "      <td>female</td>\n",
              "      <td>62.0</td>\n",
              "      <td>0</td>\n",
              "      <td>0</td>\n",
              "      <td>113572</td>\n",
              "      <td>80.0</td>\n",
              "      <td>B28</td>\n",
              "      <td>NaN</td>\n",
              "    </tr>\n",
              "  </tbody>\n",
              "</table>\n",
              "</div>"
            ],
            "text/plain": [
              "     PassengerId Survived Pclass  ...  Fare Cabin  Embarked\n",
              "61            62        1      1  ...  80.0   B28       NaN\n",
              "829          830        1      1  ...  80.0   B28       NaN\n",
              "\n",
              "[2 rows x 12 columns]"
            ]
          },
          "metadata": {},
          "execution_count": 23
        }
      ]
    },
    {
      "cell_type": "markdown",
      "metadata": {
        "id": "dyAzTNC5kx-h"
      },
      "source": [
        "> Drop Two Rows of Embarked Data"
      ]
    },
    {
      "cell_type": "code",
      "metadata": {
        "execution": {
          "iopub.status.busy": "2021-10-23T21:10:55.236279Z",
          "iopub.execute_input": "2021-10-23T21:10:55.237263Z",
          "iopub.status.idle": "2021-10-23T21:10:55.251444Z",
          "shell.execute_reply.started": "2021-10-23T21:10:55.23722Z",
          "shell.execute_reply": "2021-10-23T21:10:55.250464Z"
        },
        "trusted": true,
        "id": "p_dBF5ewkx-h"
      },
      "source": [
        "train= train.dropna(axis=0, subset=['Embarked'])\n",
        "missing_dat_train = missing(train)"
      ],
      "execution_count": 24,
      "outputs": []
    },
    {
      "cell_type": "markdown",
      "metadata": {
        "id": "GLeyMCufkx-h"
      },
      "source": [
        "> Drop Cabin Variable to reduce its impact on overall outcome"
      ]
    },
    {
      "cell_type": "code",
      "metadata": {
        "execution": {
          "iopub.status.busy": "2021-10-23T21:10:55.253069Z",
          "iopub.execute_input": "2021-10-23T21:10:55.253536Z",
          "iopub.status.idle": "2021-10-23T21:10:55.265089Z",
          "shell.execute_reply.started": "2021-10-23T21:10:55.253492Z",
          "shell.execute_reply": "2021-10-23T21:10:55.264342Z"
        },
        "trusted": true,
        "colab": {
          "base_uri": "https://localhost:8080/"
        },
        "id": "gegrIZrtkx-h",
        "outputId": "38c4c68c-abe1-4793-a313-5b7f0687806f"
      },
      "source": [
        "train.isnull().sum()"
      ],
      "execution_count": 25,
      "outputs": [
        {
          "output_type": "execute_result",
          "data": {
            "text/plain": [
              "PassengerId      0\n",
              "Survived         0\n",
              "Pclass           0\n",
              "Name             0\n",
              "Sex              0\n",
              "Age            177\n",
              "SibSp            0\n",
              "Parch            0\n",
              "Ticket           0\n",
              "Fare             0\n",
              "Cabin          687\n",
              "Embarked         0\n",
              "dtype: int64"
            ]
          },
          "metadata": {},
          "execution_count": 25
        }
      ]
    },
    {
      "cell_type": "code",
      "metadata": {
        "execution": {
          "iopub.status.busy": "2021-10-23T21:10:55.271659Z",
          "iopub.execute_input": "2021-10-23T21:10:55.271857Z",
          "iopub.status.idle": "2021-10-23T21:10:55.562992Z",
          "shell.execute_reply.started": "2021-10-23T21:10:55.271833Z",
          "shell.execute_reply": "2021-10-23T21:10:55.562279Z"
        },
        "trusted": true,
        "colab": {
          "base_uri": "https://localhost:8080/",
          "height": 391
        },
        "id": "YnjSAdickx-h",
        "outputId": "9eec5fdd-25a0-42b7-9b5a-ad77a4ed4506"
      },
      "source": [
        "plt.figure(figsize=(12,6))\n",
        "sns.histplot(x='Age',data=train,kde=True)\n",
        "plt.show()"
      ],
      "execution_count": 26,
      "outputs": [
        {
          "output_type": "display_data",
          "data": {
            "image/png": "[encoded data removed]",
            "text/plain": [
              "<Figure size 864x432 with 1 Axes>"
            ]
          },
          "metadata": {}
        }
      ]
    },
    {
      "cell_type": "markdown",
      "metadata": {
        "id": "j9UjxMTEkx-h"
      },
      "source": [
        "### Imputing Missing Data Ages of Passengers"
      ]
    },
    {
      "cell_type": "code",
      "metadata": {
        "execution": {
          "iopub.status.busy": "2021-10-23T21:10:55.564423Z",
          "iopub.execute_input": "2021-10-23T21:10:55.564911Z",
          "iopub.status.idle": "2021-10-23T21:10:55.574093Z",
          "shell.execute_reply.started": "2021-10-23T21:10:55.56487Z",
          "shell.execute_reply": "2021-10-23T21:10:55.573259Z"
        },
        "trusted": true,
        "colab": {
          "base_uri": "https://localhost:8080/"
        },
        "id": "5iBySLfHkx-h",
        "outputId": "3ae22a90-24b5-4760-ed5c-95e6b7f26b5e"
      },
      "source": [
        "train['Age']= train.loc[:,['Age']].fillna(train.loc[:,['Age']].median())\n"
      ],
      "execution_count": 27,
      "outputs": [
        {
          "output_type": "stream",
          "name": "stderr",
          "text": [
            "/usr/local/lib/python3.7/dist-packages/ipykernel_launcher.py:1: SettingWithCopyWarning: \n",
            "A value is trying to be set on a copy of a slice from a DataFrame.\n",
            "Try using .loc[row_indexer,col_indexer] = value instead\n",
            "\n",
            "See the caveats in the documentation: https://pandas.pydata.org/pandas-docs/stable/user_guide/indexing.html#returning-a-view-versus-a-copy\n",
            "  \"\"\"Entry point for launching an IPython kernel.\n"
          ]
        }
      ]
    },
    {
      "cell_type": "markdown",
      "metadata": {
        "id": "9Ke1ljRMkx-h"
      },
      "source": [
        "### Dropping Values for Missing Cabins"
      ]
    },
    {
      "cell_type": "code",
      "metadata": {
        "execution": {
          "iopub.status.busy": "2021-10-23T21:10:55.575591Z",
          "iopub.execute_input": "2021-10-23T21:10:55.576032Z",
          "iopub.status.idle": "2021-10-23T21:10:55.582744Z",
          "shell.execute_reply.started": "2021-10-23T21:10:55.575993Z",
          "shell.execute_reply": "2021-10-23T21:10:55.581926Z"
        },
        "trusted": true,
        "id": "iZlbaBRskx-i"
      },
      "source": [
        "train = train.drop('Cabin',axis=1)"
      ],
      "execution_count": 28,
      "outputs": []
    },
    {
      "cell_type": "markdown",
      "metadata": {
        "id": "L92xa4_8kx-i"
      },
      "source": [
        "### Verifying How Much Missing Data is Present in Training Set"
      ]
    },
    {
      "cell_type": "code",
      "metadata": {
        "execution": {
          "iopub.status.busy": "2021-10-23T21:10:55.584191Z",
          "iopub.execute_input": "2021-10-23T21:10:55.584612Z",
          "iopub.status.idle": "2021-10-23T21:10:55.596842Z",
          "shell.execute_reply.started": "2021-10-23T21:10:55.584573Z",
          "shell.execute_reply": "2021-10-23T21:10:55.595853Z"
        },
        "trusted": true,
        "colab": {
          "base_uri": "https://localhost:8080/"
        },
        "id": "etp60O4xkx-i",
        "outputId": "1e3da2d8-4062-47fb-f3ef-99500fea5327"
      },
      "source": [
        "train.isna().sum()"
      ],
      "execution_count": 29,
      "outputs": [
        {
          "output_type": "execute_result",
          "data": {
            "text/plain": [
              "PassengerId    0\n",
              "Survived       0\n",
              "Pclass         0\n",
              "Name           0\n",
              "Sex            0\n",
              "Age            0\n",
              "SibSp          0\n",
              "Parch          0\n",
              "Ticket         0\n",
              "Fare           0\n",
              "Embarked       0\n",
              "dtype: int64"
            ]
          },
          "metadata": {},
          "execution_count": 29
        }
      ]
    },
    {
      "cell_type": "markdown",
      "metadata": {
        "id": "GD6bwR86kx-i"
      },
      "source": [
        "> All missing values have been removed"
      ]
    },
    {
      "cell_type": "code",
      "metadata": {
        "execution": {
          "iopub.status.busy": "2021-10-23T21:10:55.598716Z",
          "iopub.execute_input": "2021-10-23T21:10:55.599075Z",
          "iopub.status.idle": "2021-10-23T21:10:55.610015Z",
          "shell.execute_reply.started": "2021-10-23T21:10:55.599039Z",
          "shell.execute_reply": "2021-10-23T21:10:55.608951Z"
        },
        "trusted": true,
        "colab": {
          "base_uri": "https://localhost:8080/"
        },
        "id": "MnDYoQh1kx-i",
        "outputId": "66d93d22-37d5-46fb-f93c-0e26399835bb"
      },
      "source": [
        "test.isna().sum()"
      ],
      "execution_count": 30,
      "outputs": [
        {
          "output_type": "execute_result",
          "data": {
            "text/plain": [
              "PassengerId      0\n",
              "Pclass           0\n",
              "Name             0\n",
              "Sex              0\n",
              "Age             86\n",
              "SibSp            0\n",
              "Parch            0\n",
              "Ticket           0\n",
              "Fare             1\n",
              "Cabin          327\n",
              "Embarked         0\n",
              "Survived         0\n",
              "dtype: int64"
            ]
          },
          "metadata": {},
          "execution_count": 30
        }
      ]
    },
    {
      "cell_type": "code",
      "metadata": {
        "execution": {
          "iopub.status.busy": "2021-10-23T21:10:55.611728Z",
          "iopub.execute_input": "2021-10-23T21:10:55.612093Z",
          "iopub.status.idle": "2021-10-23T21:10:55.625039Z",
          "shell.execute_reply.started": "2021-10-23T21:10:55.612056Z",
          "shell.execute_reply": "2021-10-23T21:10:55.623798Z"
        },
        "trusted": true,
        "colab": {
          "base_uri": "https://localhost:8080/"
        },
        "id": "MqhPyr-6kx-i",
        "outputId": "1f430a6c-36ea-40f2-90f0-a94f8206b618"
      },
      "source": [
        "test.isna().sum()/ len(test)"
      ],
      "execution_count": 31,
      "outputs": [
        {
          "output_type": "execute_result",
          "data": {
            "text/plain": [
              "PassengerId    0.000000\n",
              "Pclass         0.000000\n",
              "Name           0.000000\n",
              "Sex            0.000000\n",
              "Age            0.205742\n",
              "SibSp          0.000000\n",
              "Parch          0.000000\n",
              "Ticket         0.000000\n",
              "Fare           0.002392\n",
              "Cabin          0.782297\n",
              "Embarked       0.000000\n",
              "Survived       0.000000\n",
              "dtype: float64"
            ]
          },
          "metadata": {},
          "execution_count": 31
        }
      ]
    },
    {
      "cell_type": "code",
      "metadata": {
        "execution": {
          "iopub.status.busy": "2021-10-23T21:10:55.626598Z",
          "iopub.execute_input": "2021-10-23T21:10:55.626929Z",
          "iopub.status.idle": "2021-10-23T21:10:55.636113Z",
          "shell.execute_reply.started": "2021-10-23T21:10:55.626888Z",
          "shell.execute_reply": "2021-10-23T21:10:55.635059Z"
        },
        "trusted": true,
        "id": "xZleQS4-kx-i"
      },
      "source": [
        "missing_dat = missing(test)"
      ],
      "execution_count": 32,
      "outputs": []
    },
    {
      "cell_type": "code",
      "metadata": {
        "execution": {
          "iopub.status.busy": "2021-10-23T21:10:55.637601Z",
          "iopub.execute_input": "2021-10-23T21:10:55.638117Z",
          "iopub.status.idle": "2021-10-23T21:10:55.656428Z",
          "shell.execute_reply.started": "2021-10-23T21:10:55.638075Z",
          "shell.execute_reply": "2021-10-23T21:10:55.655387Z"
        },
        "trusted": true,
        "colab": {
          "base_uri": "https://localhost:8080/",
          "height": 81
        },
        "id": "ZXDdgvhmkx-j",
        "outputId": "66bd7331-ef42-47ad-82dd-ad590697ff62"
      },
      "source": [
        "test[test['Fare'].isnull()]"
      ],
      "execution_count": 33,
      "outputs": [
        {
          "output_type": "execute_result",
          "data": {
            "text/html": [
              "<div>\n",
              "<style scoped>\n",
              "    .dataframe tbody tr th:only-of-type {\n",
              "        vertical-align: middle;\n",
              "    }\n",
              "\n",
              "    .dataframe tbody tr th {\n",
              "        vertical-align: top;\n",
              "    }\n",
              "\n",
              "    .dataframe thead th {\n",
              "        text-align: right;\n",
              "    }\n",
              "</style>\n",
              "<table border=\"1\" class=\"dataframe\">\n",
              "  <thead>\n",
              "    <tr style=\"text-align: right;\">\n",
              "      <th></th>\n",
              "      <th>PassengerId</th>\n",
              "      <th>Pclass</th>\n",
              "      <th>Name</th>\n",
              "      <th>Sex</th>\n",
              "      <th>Age</th>\n",
              "      <th>SibSp</th>\n",
              "      <th>Parch</th>\n",
              "      <th>Ticket</th>\n",
              "      <th>Fare</th>\n",
              "      <th>Cabin</th>\n",
              "      <th>Embarked</th>\n",
              "      <th>Survived</th>\n",
              "    </tr>\n",
              "  </thead>\n",
              "  <tbody>\n",
              "    <tr>\n",
              "      <th>152</th>\n",
              "      <td>1044</td>\n",
              "      <td>3</td>\n",
              "      <td>Storey, Mr. Thomas</td>\n",
              "      <td>male</td>\n",
              "      <td>60.5</td>\n",
              "      <td>0</td>\n",
              "      <td>0</td>\n",
              "      <td>3701</td>\n",
              "      <td>NaN</td>\n",
              "      <td>NaN</td>\n",
              "      <td>S</td>\n",
              "      <td>0</td>\n",
              "    </tr>\n",
              "  </tbody>\n",
              "</table>\n",
              "</div>"
            ],
            "text/plain": [
              "     PassengerId  Pclass                Name  ... Cabin  Embarked  Survived\n",
              "152         1044       3  Storey, Mr. Thomas  ...   NaN         S         0\n",
              "\n",
              "[1 rows x 12 columns]"
            ]
          },
          "metadata": {},
          "execution_count": 33
        }
      ]
    },
    {
      "cell_type": "code",
      "metadata": {
        "execution": {
          "iopub.status.busy": "2021-10-23T21:10:55.658503Z",
          "iopub.execute_input": "2021-10-23T21:10:55.658831Z",
          "iopub.status.idle": "2021-10-23T21:10:55.665531Z",
          "shell.execute_reply.started": "2021-10-23T21:10:55.658795Z",
          "shell.execute_reply": "2021-10-23T21:10:55.664387Z"
        },
        "trusted": true,
        "id": "0KBW1dmLkx-j"
      },
      "source": [
        "test['Age'] = test['Age'].fillna(test['Age'].median())"
      ],
      "execution_count": 34,
      "outputs": []
    },
    {
      "cell_type": "code",
      "metadata": {
        "execution": {
          "iopub.status.busy": "2021-10-23T21:10:55.667332Z",
          "iopub.execute_input": "2021-10-23T21:10:55.66771Z",
          "iopub.status.idle": "2021-10-23T21:10:55.675148Z",
          "shell.execute_reply.started": "2021-10-23T21:10:55.667673Z",
          "shell.execute_reply": "2021-10-23T21:10:55.674428Z"
        },
        "trusted": true,
        "id": "06P5b_IVkx-j"
      },
      "source": [
        "test['Fare'] = test['Fare'].fillna(test['Fare'].median())"
      ],
      "execution_count": 35,
      "outputs": []
    },
    {
      "cell_type": "code",
      "metadata": {
        "execution": {
          "iopub.status.busy": "2021-10-23T21:10:55.676441Z",
          "iopub.execute_input": "2021-10-23T21:10:55.676738Z",
          "iopub.status.idle": "2021-10-23T21:10:55.688385Z",
          "shell.execute_reply.started": "2021-10-23T21:10:55.676703Z",
          "shell.execute_reply": "2021-10-23T21:10:55.687639Z"
        },
        "trusted": true,
        "id": "3uVBYlCbkx-j"
      },
      "source": [
        "test = test.drop('Cabin',axis=1)"
      ],
      "execution_count": 36,
      "outputs": []
    },
    {
      "cell_type": "code",
      "metadata": {
        "execution": {
          "iopub.status.busy": "2021-10-23T21:10:55.69143Z",
          "iopub.execute_input": "2021-10-23T21:10:55.691719Z",
          "iopub.status.idle": "2021-10-23T21:10:55.837493Z",
          "shell.execute_reply.started": "2021-10-23T21:10:55.691682Z",
          "shell.execute_reply": "2021-10-23T21:10:55.836714Z"
        },
        "trusted": true,
        "colab": {
          "base_uri": "https://localhost:8080/"
        },
        "id": "mIiQaslPkx-j",
        "outputId": "aec0db06-bb53-4529-d925-ffc7c9512d52"
      },
      "source": [
        "test.isnull().sum()"
      ],
      "execution_count": 37,
      "outputs": [
        {
          "output_type": "execute_result",
          "data": {
            "text/plain": [
              "PassengerId    0\n",
              "Pclass         0\n",
              "Name           0\n",
              "Sex            0\n",
              "Age            0\n",
              "SibSp          0\n",
              "Parch          0\n",
              "Ticket         0\n",
              "Fare           0\n",
              "Embarked       0\n",
              "Survived       0\n",
              "dtype: int64"
            ]
          },
          "metadata": {},
          "execution_count": 37
        }
      ]
    },
    {
      "cell_type": "markdown",
      "metadata": {
        "id": "IEyqqZankx-j"
      },
      "source": [
        "# Exploring Data Analysis of Survival "
      ]
    },
    {
      "cell_type": "code",
      "metadata": {
        "execution": {
          "iopub.status.busy": "2021-10-23T21:10:55.839239Z",
          "iopub.execute_input": "2021-10-23T21:10:55.839761Z",
          "iopub.status.idle": "2021-10-23T21:10:55.846315Z",
          "shell.execute_reply.started": "2021-10-23T21:10:55.839721Z",
          "shell.execute_reply": "2021-10-23T21:10:55.845514Z"
        },
        "trusted": true,
        "id": "Ru-iIdhpkx-j"
      },
      "source": [
        "train['Survived'] = train['Survived'].astype('int64')"
      ],
      "execution_count": 38,
      "outputs": []
    },
    {
      "cell_type": "code",
      "metadata": {
        "execution": {
          "iopub.status.busy": "2021-10-23T21:10:55.847971Z",
          "iopub.execute_input": "2021-10-23T21:10:55.848358Z",
          "iopub.status.idle": "2021-10-23T21:10:56.14122Z",
          "shell.execute_reply.started": "2021-10-23T21:10:55.848323Z",
          "shell.execute_reply": "2021-10-23T21:10:56.140522Z"
        },
        "trusted": true,
        "colab": {
          "base_uri": "https://localhost:8080/",
          "height": 378
        },
        "id": "NRjXGW2ekx-j",
        "outputId": "435e4061-887d-4b9b-faec-3cdafa773219"
      },
      "source": [
        "plt.figure(figsize=(12,6))\n",
        "corr = train.iloc[:,1:].corr()\n",
        "\n",
        "sns.heatmap(corr,annot=True)\n",
        "plt.show()"
      ],
      "execution_count": 39,
      "outputs": [
        {
          "output_type": "display_data",
          "data": {
            "image/png": "[encoded data removed]",
            "text/plain": [
              "<Figure size 864x432 with 2 Axes>"
            ]
          },
          "metadata": {}
        }
      ]
    },
    {
      "cell_type": "code",
      "metadata": {
        "execution": {
          "iopub.status.busy": "2021-10-23T21:10:56.142628Z",
          "iopub.execute_input": "2021-10-23T21:10:56.143079Z",
          "iopub.status.idle": "2021-10-23T21:10:56.154375Z",
          "shell.execute_reply.started": "2021-10-23T21:10:56.143039Z",
          "shell.execute_reply": "2021-10-23T21:10:56.153406Z"
        },
        "trusted": true,
        "colab": {
          "base_uri": "https://localhost:8080/"
        },
        "id": "iySeJuMEkx-j",
        "outputId": "5210d672-29cf-4488-fbb2-38d7bdb98a1f"
      },
      "source": [
        "train.corr()['Survived']"
      ],
      "execution_count": 40,
      "outputs": [
        {
          "output_type": "execute_result",
          "data": {
            "text/plain": [
              "PassengerId   -0.005028\n",
              "Survived       1.000000\n",
              "Age           -0.069822\n",
              "Parch          0.083151\n",
              "Fare           0.255290\n",
              "Name: Survived, dtype: float64"
            ]
          },
          "metadata": {},
          "execution_count": 40
        }
      ]
    },
    {
      "cell_type": "code",
      "metadata": {
        "execution": {
          "iopub.status.busy": "2021-10-23T21:10:56.155946Z",
          "iopub.execute_input": "2021-10-23T21:10:56.156405Z",
          "iopub.status.idle": "2021-10-23T21:10:56.417581Z",
          "shell.execute_reply.started": "2021-10-23T21:10:56.156366Z",
          "shell.execute_reply": "2021-10-23T21:10:56.416869Z"
        },
        "trusted": true,
        "colab": {
          "base_uri": "https://localhost:8080/",
          "height": 391
        },
        "id": "wLHlHg3Wkx-k",
        "outputId": "691f6839-2b53-4dfb-ee6f-4ae23c2bbd80"
      },
      "source": [
        "plt.figure(figsize=(12,6))\n",
        "sns.histplot(x=train.Fare ,data=train, binwidth=30,kde=True)\n",
        "plt.show()"
      ],
      "execution_count": 41,
      "outputs": [
        {
          "output_type": "display_data",
          "data": {
            "image/png": "[encoded data removed]",
            "text/plain": [
              "<Figure size 864x432 with 1 Axes>"
            ]
          },
          "metadata": {}
        }
      ]
    },
    {
      "cell_type": "code",
      "metadata": {
        "execution": {
          "iopub.status.busy": "2021-10-23T21:10:56.419009Z",
          "iopub.execute_input": "2021-10-23T21:10:56.419256Z",
          "iopub.status.idle": "2021-10-23T21:10:56.853986Z",
          "shell.execute_reply.started": "2021-10-23T21:10:56.419221Z",
          "shell.execute_reply": "2021-10-23T21:10:56.853296Z"
        },
        "trusted": true,
        "colab": {
          "base_uri": "https://localhost:8080/",
          "height": 391
        },
        "id": "F80j4dbgkx-k",
        "outputId": "27fe5409-72bb-479f-dacb-4d74208d6c58"
      },
      "source": [
        "plt.figure(figsize=(12,6))\n",
        "sns.histplot(x='Age',data=train,kde=True,hue='Survived')\n",
        "plt.show()"
      ],
      "execution_count": 42,
      "outputs": [
        {
          "output_type": "display_data",
          "data": {
            "image/png": "[encoded data removed]",
            "text/plain": [
              "<Figure size 864x432 with 1 Axes>"
            ]
          },
          "metadata": {}
        }
      ]
    },
    {
      "cell_type": "code",
      "metadata": {
        "execution": {
          "iopub.status.busy": "2021-10-23T21:10:56.855491Z",
          "iopub.execute_input": "2021-10-23T21:10:56.855943Z",
          "iopub.status.idle": "2021-10-23T21:10:57.254783Z",
          "shell.execute_reply.started": "2021-10-23T21:10:56.855906Z",
          "shell.execute_reply": "2021-10-23T21:10:57.254001Z"
        },
        "trusted": true,
        "colab": {
          "base_uri": "https://localhost:8080/",
          "height": 386
        },
        "id": "4rIDF_wXkx-k",
        "outputId": "1fd24cfe-1ca0-4450-f4f2-22790de791aa"
      },
      "source": [
        "plt.figure(figsize=(12,6))\n",
        "sns.catplot(x='Survived',y='Age' ,data=train,kind='bar',ci=False)\n",
        "plt.show()"
      ],
      "execution_count": 43,
      "outputs": [
        {
          "output_type": "display_data",
          "data": {
            "text/plain": [
              "<Figure size 864x432 with 0 Axes>"
            ]
          },
          "metadata": {}
        },
        {
          "output_type": "display_data",
          "data": {
            "image/png": "[encoded data removed]",
            "text/plain": [
              "<Figure size 360x360 with 1 Axes>"
            ]
          },
          "metadata": {}
        }
      ]
    },
    {
      "cell_type": "code",
      "metadata": {
        "execution": {
          "iopub.status.busy": "2021-10-23T21:10:57.259336Z",
          "iopub.execute_input": "2021-10-23T21:10:57.260253Z",
          "iopub.status.idle": "2021-10-23T21:10:57.726617Z",
          "shell.execute_reply.started": "2021-10-23T21:10:57.260209Z",
          "shell.execute_reply": "2021-10-23T21:10:57.725729Z"
        },
        "trusted": true,
        "colab": {
          "base_uri": "https://localhost:8080/",
          "height": 386
        },
        "id": "gZGsv7mVkx-k",
        "outputId": "b6b4ea9a-2e84-4532-f9a7-0959c14ef56b"
      },
      "source": [
        "plt.figure(figsize=(12,6))\n",
        "sns.catplot(x='Embarked',y='Survived',data=train,kind='bar',ci=False)\n",
        "plt.show()"
      ],
      "execution_count": 44,
      "outputs": [
        {
          "output_type": "display_data",
          "data": {
            "text/plain": [
              "<Figure size 864x432 with 0 Axes>"
            ]
          },
          "metadata": {}
        },
        {
          "output_type": "display_data",
          "data": {
            "image/png": "[encoded data removed]",
            "text/plain": [
              "<Figure size 360x360 with 1 Axes>"
            ]
          },
          "metadata": {}
        }
      ]
    },
    {
      "cell_type": "code",
      "metadata": {
        "execution": {
          "iopub.status.busy": "2021-10-23T21:10:57.728812Z",
          "iopub.execute_input": "2021-10-23T21:10:57.72925Z",
          "iopub.status.idle": "2021-10-23T21:10:58.022812Z",
          "shell.execute_reply.started": "2021-10-23T21:10:57.729213Z",
          "shell.execute_reply": "2021-10-23T21:10:58.022062Z"
        },
        "trusted": true,
        "colab": {
          "base_uri": "https://localhost:8080/",
          "height": 386
        },
        "id": "GZc-mmzGkx-k",
        "outputId": "36d4d958-9a53-4b94-ff49-3cb8870fc04e"
      },
      "source": [
        "plt.figure(figsize=(15,10))\n",
        "sns.catplot(x='Sex',y='Survived' ,data=train,kind='violin')\n",
        "plt.show()"
      ],
      "execution_count": 45,
      "outputs": [
        {
          "output_type": "display_data",
          "data": {
            "text/plain": [
              "<Figure size 1080x720 with 0 Axes>"
            ]
          },
          "metadata": {}
        },
        {
          "output_type": "display_data",
          "data": {
            "image/png": "[encoded data removed]",
            "text/plain": [
              "<Figure size 360x360 with 1 Axes>"
            ]
          },
          "metadata": {}
        }
      ]
    },
    {
      "cell_type": "markdown",
      "metadata": {
        "id": "7SovvteHkx-k"
      },
      "source": [
        "# Data Preparation Before Modelling"
      ]
    },
    {
      "cell_type": "code",
      "metadata": {
        "execution": {
          "iopub.status.busy": "2021-10-23T21:10:58.024212Z",
          "iopub.execute_input": "2021-10-23T21:10:58.024668Z",
          "iopub.status.idle": "2021-10-23T21:10:58.044444Z",
          "shell.execute_reply.started": "2021-10-23T21:10:58.024627Z",
          "shell.execute_reply": "2021-10-23T21:10:58.043513Z"
        },
        "trusted": true,
        "colab": {
          "base_uri": "https://localhost:8080/",
          "height": 205
        },
        "id": "fEVCZweDkx-k",
        "outputId": "c71c7753-c133-4598-89a3-2336c3eb45a2"
      },
      "source": [
        "train_ml = train\n",
        "test_ml = test\n",
        "train_ml.head()"
      ],
      "execution_count": 46,
      "outputs": [
        {
          "output_type": "execute_result",
          "data": {
            "text/html": [
              "<div>\n",
              "<style scoped>\n",
              "    .dataframe tbody tr th:only-of-type {\n",
              "        vertical-align: middle;\n",
              "    }\n",
              "\n",
              "    .dataframe tbody tr th {\n",
              "        vertical-align: top;\n",
              "    }\n",
              "\n",
              "    .dataframe thead th {\n",
              "        text-align: right;\n",
              "    }\n",
              "</style>\n",
              "<table border=\"1\" class=\"dataframe\">\n",
              "  <thead>\n",
              "    <tr style=\"text-align: right;\">\n",
              "      <th></th>\n",
              "      <th>PassengerId</th>\n",
              "      <th>Survived</th>\n",
              "      <th>Pclass</th>\n",
              "      <th>Name</th>\n",
              "      <th>Sex</th>\n",
              "      <th>Age</th>\n",
              "      <th>SibSp</th>\n",
              "      <th>Parch</th>\n",
              "      <th>Ticket</th>\n",
              "      <th>Fare</th>\n",
              "      <th>Embarked</th>\n",
              "    </tr>\n",
              "  </thead>\n",
              "  <tbody>\n",
              "    <tr>\n",
              "      <th>0</th>\n",
              "      <td>1</td>\n",
              "      <td>0</td>\n",
              "      <td>3</td>\n",
              "      <td>Braund, Mr. Owen Harris</td>\n",
              "      <td>male</td>\n",
              "      <td>22.0</td>\n",
              "      <td>1</td>\n",
              "      <td>0</td>\n",
              "      <td>A/5 21171</td>\n",
              "      <td>7.2500</td>\n",
              "      <td>S</td>\n",
              "    </tr>\n",
              "    <tr>\n",
              "      <th>1</th>\n",
              "      <td>2</td>\n",
              "      <td>1</td>\n",
              "      <td>1</td>\n",
              "      <td>Cumings, Mrs. John Bradley (Florence Briggs Th...</td>\n",
              "      <td>female</td>\n",
              "      <td>38.0</td>\n",
              "      <td>1</td>\n",
              "      <td>0</td>\n",
              "      <td>PC 17599</td>\n",
              "      <td>71.2833</td>\n",
              "      <td>C</td>\n",
              "    </tr>\n",
              "    <tr>\n",
              "      <th>2</th>\n",
              "      <td>3</td>\n",
              "      <td>1</td>\n",
              "      <td>3</td>\n",
              "      <td>Heikkinen, Miss. Laina</td>\n",
              "      <td>female</td>\n",
              "      <td>26.0</td>\n",
              "      <td>0</td>\n",
              "      <td>0</td>\n",
              "      <td>STON/O2. 3101282</td>\n",
              "      <td>7.9250</td>\n",
              "      <td>S</td>\n",
              "    </tr>\n",
              "    <tr>\n",
              "      <th>3</th>\n",
              "      <td>4</td>\n",
              "      <td>1</td>\n",
              "      <td>1</td>\n",
              "      <td>Futrelle, Mrs. Jacques Heath (Lily May Peel)</td>\n",
              "      <td>female</td>\n",
              "      <td>35.0</td>\n",
              "      <td>1</td>\n",
              "      <td>0</td>\n",
              "      <td>113803</td>\n",
              "      <td>53.1000</td>\n",
              "      <td>S</td>\n",
              "    </tr>\n",
              "    <tr>\n",
              "      <th>4</th>\n",
              "      <td>5</td>\n",
              "      <td>0</td>\n",
              "      <td>3</td>\n",
              "      <td>Allen, Mr. William Henry</td>\n",
              "      <td>male</td>\n",
              "      <td>35.0</td>\n",
              "      <td>0</td>\n",
              "      <td>0</td>\n",
              "      <td>373450</td>\n",
              "      <td>8.0500</td>\n",
              "      <td>S</td>\n",
              "    </tr>\n",
              "  </tbody>\n",
              "</table>\n",
              "</div>"
            ],
            "text/plain": [
              "   PassengerId  Survived Pclass  ...            Ticket     Fare  Embarked\n",
              "0            1         0      3  ...         A/5 21171   7.2500         S\n",
              "1            2         1      1  ...          PC 17599  71.2833         C\n",
              "2            3         1      3  ...  STON/O2. 3101282   7.9250         S\n",
              "3            4         1      1  ...            113803  53.1000         S\n",
              "4            5         0      3  ...            373450   8.0500         S\n",
              "\n",
              "[5 rows x 11 columns]"
            ]
          },
          "metadata": {},
          "execution_count": 46
        }
      ]
    },
    {
      "cell_type": "code",
      "metadata": {
        "execution": {
          "iopub.status.busy": "2021-10-23T21:10:58.046213Z",
          "iopub.execute_input": "2021-10-23T21:10:58.046627Z",
          "iopub.status.idle": "2021-10-23T21:10:58.059667Z",
          "shell.execute_reply.started": "2021-10-23T21:10:58.046587Z",
          "shell.execute_reply": "2021-10-23T21:10:58.05831Z"
        },
        "trusted": true,
        "colab": {
          "base_uri": "https://localhost:8080/"
        },
        "id": "ihS2SfR5kx-k",
        "outputId": "6ed8c673-5f17-4dd4-a29b-051a458214fc"
      },
      "source": [
        "from sklearn.preprocessing import LabelEncoder\n",
        "\n",
        "# Instantiating Label Encoder\n",
        "encoder = LabelEncoder()\n",
        "\n",
        "# Instantiating Label Encoder\n",
        "cols= ['Sex','Embarked']\n",
        "\n",
        "# Fitting Label Encoder For Each Column\n",
        "for col in cols:\n",
        "    train_ml[col]= encoder.fit_transform(train_ml[col])\n",
        "    test_ml[col]= encoder.fit_transform(test_ml[col])\n",
        "    print(encoder.classes_)"
      ],
      "execution_count": 47,
      "outputs": [
        {
          "output_type": "stream",
          "name": "stdout",
          "text": [
            "['female' 'male']\n",
            "['C' 'Q' 'S']\n"
          ]
        }
      ]
    },
    {
      "cell_type": "markdown",
      "metadata": {
        "id": "ZXgkblBCkx-l"
      },
      "source": [
        "**Creating Input and Output Variables**"
      ]
    },
    {
      "cell_type": "code",
      "metadata": {
        "execution": {
          "iopub.status.busy": "2021-10-23T21:10:58.061375Z",
          "iopub.execute_input": "2021-10-23T21:10:58.061942Z",
          "iopub.status.idle": "2021-10-23T21:10:58.073251Z",
          "shell.execute_reply.started": "2021-10-23T21:10:58.061904Z",
          "shell.execute_reply": "2021-10-23T21:10:58.072249Z"
        },
        "trusted": true,
        "id": "FY2X9mu4kx-l"
      },
      "source": [
        "# Subset Dataset\n",
        "\n",
        "train_ml = train_ml.loc[:,['Pclass','Sex','Age','SibSp','Parch','Fare','Embarked','Survived']]\n",
        "test_ml = test_ml.loc[:,['Pclass','Sex','Age','SibSp','Parch','Fare','Embarked','Survived']]\n",
        "\n",
        "# Preparing X_train, y_train\n",
        "\n",
        "X_train = train_ml.drop('Survived',axis=1)\n",
        "y_train = train_ml['Survived']\n",
        "\n",
        "# Preparing X_test, y_test\n",
        "\n",
        "\n",
        "X_test = test_ml.drop('Survived',axis=1)\n",
        "y_test = test_ml['Survived']"
      ],
      "execution_count": 48,
      "outputs": []
    },
    {
      "cell_type": "markdown",
      "metadata": {
        "id": "eyHIqNibkx-l"
      },
      "source": [
        "# Machine Learning"
      ]
    },
    {
      "cell_type": "code",
      "metadata": {
        "execution": {
          "iopub.status.busy": "2021-10-23T21:10:58.076106Z",
          "iopub.execute_input": "2021-10-23T21:10:58.076518Z",
          "iopub.status.idle": "2021-10-23T21:10:58.083304Z",
          "shell.execute_reply.started": "2021-10-23T21:10:58.076477Z",
          "shell.execute_reply": "2021-10-23T21:10:58.082492Z"
        },
        "trusted": true,
        "id": "M_kt_N7Ikx-l"
      },
      "source": [
        "from sklearn.linear_model import LogisticRegression\n",
        "from sklearn.tree import DecisionTreeClassifier\n",
        "from sklearn.ensemble import RandomForestClassifier\n",
        "from sklearn.svm import LinearSVC, SVC\n",
        "from sklearn.preprocessing import StandardScaler\n",
        "from sklearn.metrics import classification_report, accuracy_score, confusion_matrix, f1_score,recall_score, precision_score, cohen_kappa_score\n",
        "from sklearn.impute import SimpleImputer\n",
        "from sklearn.utils import shuffle\n"
      ],
      "execution_count": 49,
      "outputs": []
    },
    {
      "cell_type": "code",
      "metadata": {
        "execution": {
          "iopub.status.busy": "2021-10-23T21:10:58.084596Z",
          "iopub.execute_input": "2021-10-23T21:10:58.084877Z",
          "iopub.status.idle": "2021-10-23T21:10:58.101609Z",
          "shell.execute_reply.started": "2021-10-23T21:10:58.084838Z",
          "shell.execute_reply": "2021-10-23T21:10:58.100815Z"
        },
        "trusted": true,
        "id": "OjYmJ8NGkx-l"
      },
      "source": [
        "scaler = StandardScaler()\n",
        "\n",
        "X_train.iloc[:,[2,5]] = scaler.fit_transform(X_train.iloc[:,[2,5]])\n",
        "X_test.iloc[:,[2,5]] = scaler.fit_transform(X_test.iloc[:,[2,5]])\n"
      ],
      "execution_count": 50,
      "outputs": []
    },
    {
      "cell_type": "code",
      "metadata": {
        "execution": {
          "iopub.status.busy": "2021-10-23T21:10:58.103077Z",
          "iopub.execute_input": "2021-10-23T21:10:58.103589Z",
          "iopub.status.idle": "2021-10-23T21:10:58.112304Z",
          "shell.execute_reply.started": "2021-10-23T21:10:58.103545Z",
          "shell.execute_reply": "2021-10-23T21:10:58.111346Z"
        },
        "trusted": true,
        "id": "vkFyONnJkx-l"
      },
      "source": [
        "# Shuffle Dataset to Ensure Random Ordering & Prevent Model From learning Pattersn related to Ordering\n",
        "X_train, y_train= shuffle(X_train,y_train)"
      ],
      "execution_count": 51,
      "outputs": []
    },
    {
      "cell_type": "markdown",
      "metadata": {
        "id": "PDcYW87tkx-l"
      },
      "source": [
        "### Logistic Regression"
      ]
    },
    {
      "cell_type": "code",
      "metadata": {
        "execution": {
          "iopub.status.busy": "2021-10-23T21:10:58.113645Z",
          "iopub.execute_input": "2021-10-23T21:10:58.113964Z",
          "iopub.status.idle": "2021-10-23T21:10:58.143107Z",
          "shell.execute_reply.started": "2021-10-23T21:10:58.11392Z",
          "shell.execute_reply": "2021-10-23T21:10:58.14239Z"
        },
        "trusted": true,
        "colab": {
          "base_uri": "https://localhost:8080/"
        },
        "id": "4GiQo-3rkx-l",
        "outputId": "6037a1e3-b2d9-4f40-c2b0-34c7ca9cfba4"
      },
      "source": [
        "%%time \n",
        "lr = LogisticRegression(C= 0.1, penalty = 'l2', solver= 'newton-cg',random_state=12)\n",
        "\n",
        "lr.fit(X_train,y_train)"
      ],
      "execution_count": 52,
      "outputs": [
        {
          "output_type": "stream",
          "name": "stdout",
          "text": [
            "CPU times: user 21.2 ms, sys: 0 ns, total: 21.2 ms\n",
            "Wall time: 22.7 ms\n"
          ]
        }
      ]
    },
    {
      "cell_type": "code",
      "metadata": {
        "execution": {
          "iopub.status.busy": "2021-10-23T21:10:58.144171Z",
          "iopub.execute_input": "2021-10-23T21:10:58.145983Z",
          "iopub.status.idle": "2021-10-23T21:10:58.152198Z",
          "shell.execute_reply.started": "2021-10-23T21:10:58.145948Z",
          "shell.execute_reply": "2021-10-23T21:10:58.15127Z"
        },
        "trusted": true,
        "id": "bhJOspd1kx-l"
      },
      "source": [
        "lr_predictions= lr.predict(X_test)"
      ],
      "execution_count": 53,
      "outputs": []
    },
    {
      "cell_type": "code",
      "metadata": {
        "execution": {
          "iopub.status.busy": "2021-10-23T21:10:58.153808Z",
          "iopub.execute_input": "2021-10-23T21:10:58.154549Z",
          "iopub.status.idle": "2021-10-23T21:10:58.301724Z",
          "shell.execute_reply.started": "2021-10-23T21:10:58.154396Z",
          "shell.execute_reply": "2021-10-23T21:10:58.300774Z"
        },
        "trusted": true,
        "colab": {
          "base_uri": "https://localhost:8080/",
          "height": 289
        },
        "id": "Oj1od9qukx-m",
        "outputId": "d9cf09af-d155-4f2c-b77f-a31e985e446b"
      },
      "source": [
        "Survival = ['Did Not Survive','Survived']\n",
        "# Initialise class names \n",
        "classes = np.unique(Survival)\n",
        "\n",
        "# Display Confusion Matrix using Matplotlib\n",
        "\n",
        "cm = confusion_matrix(lr_predictions, y_test)\n",
        "fig, ax = plt.subplots()\n",
        "sns.heatmap(cm, annot=True, fmt='d', ax=ax, cmap=plt.cm.Blues, \n",
        "            cbar=False)\n",
        "ax.set(xlabel=\"Pred\", ylabel=\"True\",xticklabels='',yticklabels=classes\n",
        "       ,title=\"Logistic Regression Confusion Matrix\")\n",
        "plt.yticks(rotation=0)\n",
        "\n",
        "plt.show()"
      ],
      "execution_count": 54,
      "outputs": [
        {
          "output_type": "display_data",
          "data": {
            "image/png": "[encoded data removed]",
            "text/plain": [
              "<Figure size 432x288 with 1 Axes>"
            ]
          },
          "metadata": {}
        }
      ]
    },
    {
      "cell_type": "code",
      "metadata": {
        "execution": {
          "iopub.status.busy": "2021-10-23T21:10:58.302975Z",
          "iopub.execute_input": "2021-10-23T21:10:58.30349Z",
          "iopub.status.idle": "2021-10-23T21:10:58.321007Z",
          "shell.execute_reply.started": "2021-10-23T21:10:58.303431Z",
          "shell.execute_reply": "2021-10-23T21:10:58.320121Z"
        },
        "trusted": true,
        "colab": {
          "base_uri": "https://localhost:8080/"
        },
        "id": "G1vM-TIikx-m",
        "outputId": "589f4a19-8b56-4ecc-b38f-10b7f708c61e"
      },
      "source": [
        "print(classification_report(lr_predictions,y_test))"
      ],
      "execution_count": 55,
      "outputs": [
        {
          "output_type": "stream",
          "name": "stdout",
          "text": [
            "              precision    recall  f1-score   support\n",
            "\n",
            "           0       0.95      0.94      0.95       269\n",
            "           1       0.89      0.91      0.90       149\n",
            "\n",
            "    accuracy                           0.93       418\n",
            "   macro avg       0.92      0.93      0.92       418\n",
            "weighted avg       0.93      0.93      0.93       418\n",
            "\n"
          ]
        }
      ]
    },
    {
      "cell_type": "code",
      "metadata": {
        "execution": {
          "iopub.status.busy": "2021-10-23T21:10:58.325808Z",
          "iopub.execute_input": "2021-10-23T21:10:58.326617Z",
          "iopub.status.idle": "2021-10-23T21:10:58.343221Z",
          "shell.execute_reply.started": "2021-10-23T21:10:58.326574Z",
          "shell.execute_reply": "2021-10-23T21:10:58.342281Z"
        },
        "trusted": true,
        "colab": {
          "base_uri": "https://localhost:8080/"
        },
        "id": "wtdlU73dkx-m",
        "outputId": "4753df99-8b5f-4ca7-f597-d507d69f081f"
      },
      "source": [
        "print(f\"The accuracy for the logistic regression model is: {accuracy_score(lr_predictions,y_test):.3f}\")\n",
        "print(f\"The f1 score for the logistic regression model is: {f1_score(lr_predictions,y_test):.3f}\")\n",
        "print(f\"The recall score for the logistic regression model is: {recall_score(lr_predictions,y_test):.3f}\")\n",
        "print(f\"The precision score for the logistic regression model is: {precision_score(lr_predictions,y_test):.3f}\")\n",
        "print(f\"The Kappa score for the logistic regression model is: {cohen_kappa_score(lr_predictions,y_test):.3f}\")"
      ],
      "execution_count": 56,
      "outputs": [
        {
          "output_type": "stream",
          "name": "stdout",
          "text": [
            "The accuracy for the logistic regression model is: 0.931\n",
            "The f1 score for the logistic regression model is: 0.904\n",
            "The recall score for the logistic regression model is: 0.913\n",
            "The precision score for the logistic regression model is: 0.895\n",
            "The Kappa score for the logistic regression model is: 0.849\n"
          ]
        }
      ]
    },
    {
      "cell_type": "code",
      "metadata": {
        "execution": {
          "iopub.status.busy": "2021-10-23T21:10:58.344843Z",
          "iopub.execute_input": "2021-10-23T21:10:58.345242Z",
          "iopub.status.idle": "2021-10-23T21:10:58.558676Z",
          "shell.execute_reply.started": "2021-10-23T21:10:58.345195Z",
          "shell.execute_reply": "2021-10-23T21:10:58.55791Z"
        },
        "trusted": true,
        "colab": {
          "base_uri": "https://localhost:8080/",
          "height": 299
        },
        "id": "VBgW5V-9kx-m",
        "outputId": "6ac44938-942f-48d6-cf70-737e98857d70"
      },
      "source": [
        "from sklearn.metrics import roc_curve, auc\n",
        "fpr_3, tpr_3, _ = roc_curve(lr_predictions,y_test)\n",
        "roc_auc_3 = auc(fpr_3, tpr_3)\n",
        "\n",
        "# Plot of a ROC curve for a specific class\n",
        "plt.figure()\n",
        "plt.plot(fpr_3, tpr_3, color='darkorange', label='ROC curve (area = %0.3f)' % roc_auc_3)\n",
        "plt.plot([0, 1], [0, 1], color='navy', lw=2, linestyle='--')\n",
        "plt.xlim([0.0, 1.0])\n",
        "plt.ylim([0.0, 1.05])\n",
        "plt.xlabel('False Positive Rate')\n",
        "plt.ylabel('True Positive Rate')\n",
        "plt.title('ROC Curve')\n",
        "plt.legend(loc=\"lower right\")\n",
        "plt.show()"
      ],
      "execution_count": 57,
      "outputs": [
        {
          "output_type": "display_data",
          "data": {
            "image/png": "[encoded data removed]",
            "text/plain": [
              "<Figure size 432x288 with 1 Axes>"
            ]
          },
          "metadata": {}
        }
      ]
    },
    {
      "cell_type": "markdown",
      "metadata": {
        "id": "UPX2luoIkx-m"
      },
      "source": [
        "### Decision Tree"
      ]
    },
    {
      "cell_type": "code",
      "metadata": {
        "execution": {
          "iopub.status.busy": "2021-10-23T21:10:58.55989Z",
          "iopub.execute_input": "2021-10-23T21:10:58.560729Z",
          "iopub.status.idle": "2021-10-23T21:10:58.574956Z",
          "shell.execute_reply.started": "2021-10-23T21:10:58.560686Z",
          "shell.execute_reply": "2021-10-23T21:10:58.574058Z"
        },
        "trusted": true,
        "colab": {
          "base_uri": "https://localhost:8080/"
        },
        "id": "54PMeYcAkx-m",
        "outputId": "bb65f8b2-e97f-4dda-f2d7-f2165b636fac"
      },
      "source": [
        "%%time\n",
        "\n",
        "dt = DecisionTreeClassifier(random_state=0)\n",
        "\n",
        "dt.fit(X_train,y_train)"
      ],
      "execution_count": 58,
      "outputs": [
        {
          "output_type": "stream",
          "name": "stdout",
          "text": [
            "CPU times: user 6.23 ms, sys: 840 µs, total: 7.07 ms\n",
            "Wall time: 8.24 ms\n"
          ]
        }
      ]
    },
    {
      "cell_type": "code",
      "metadata": {
        "execution": {
          "iopub.status.busy": "2021-10-23T21:10:58.576454Z",
          "iopub.execute_input": "2021-10-23T21:10:58.576749Z",
          "iopub.status.idle": "2021-10-23T21:10:58.582631Z",
          "shell.execute_reply.started": "2021-10-23T21:10:58.576712Z",
          "shell.execute_reply": "2021-10-23T21:10:58.581705Z"
        },
        "trusted": true,
        "id": "xtR45KnQkx-m"
      },
      "source": [
        "\n",
        "dt_predictions = dt.predict(X_test)"
      ],
      "execution_count": 59,
      "outputs": []
    },
    {
      "cell_type": "code",
      "metadata": {
        "execution": {
          "iopub.status.busy": "2021-10-23T21:10:58.584461Z",
          "iopub.execute_input": "2021-10-23T21:10:58.58473Z",
          "iopub.status.idle": "2021-10-23T21:10:58.599631Z",
          "shell.execute_reply.started": "2021-10-23T21:10:58.584694Z",
          "shell.execute_reply": "2021-10-23T21:10:58.598695Z"
        },
        "trusted": true,
        "colab": {
          "base_uri": "https://localhost:8080/"
        },
        "id": "ROPlrXULkx-m",
        "outputId": "057299ef-e5f0-429e-bbb1-959ae35a6395"
      },
      "source": [
        "print(f\"The accuracy for the decision tree classifier model is: {accuracy_score(dt_predictions,y_test):.3f}\")\n",
        "print(f\"The f1 score for the decision tree classifier model is: {f1_score(dt_predictions,y_test):.3f}\")\n",
        "print(f\"The recall score for the decision tree classifier model is: {recall_score(dt_predictions,y_test):.3f}\")\n",
        "print(f\"The precision score for decision tree classifier model is: {precision_score(dt_predictions,y_test):.3f}\")\n",
        "print(f\"The Kappa score decision tree classifier model is: {cohen_kappa_score(dt_predictions,y_test):.3f}\")\n"
      ],
      "execution_count": 60,
      "outputs": [
        {
          "output_type": "stream",
          "name": "stdout",
          "text": [
            "The accuracy for the decision tree classifier model is: 0.677\n",
            "The f1 score for the decision tree classifier model is: 0.597\n",
            "The recall score for the decision tree classifier model is: 0.546\n",
            "The precision score for decision tree classifier model is: 0.658\n",
            "The Kappa score decision tree classifier model is: 0.331\n"
          ]
        }
      ]
    },
    {
      "cell_type": "code",
      "metadata": {
        "execution": {
          "iopub.status.busy": "2021-10-23T21:10:58.601387Z",
          "iopub.execute_input": "2021-10-23T21:10:58.601673Z",
          "iopub.status.idle": "2021-10-23T21:10:58.613254Z",
          "shell.execute_reply.started": "2021-10-23T21:10:58.60164Z",
          "shell.execute_reply": "2021-10-23T21:10:58.612513Z"
        },
        "trusted": true,
        "colab": {
          "base_uri": "https://localhost:8080/"
        },
        "id": "lxvqbmb9kx-n",
        "outputId": "91e957f2-b149-41a0-fc1b-65cb9753e006"
      },
      "source": [
        "print(classification_report(dt_predictions,y_test))"
      ],
      "execution_count": 61,
      "outputs": [
        {
          "output_type": "stream",
          "name": "stdout",
          "text": [
            "              precision    recall  f1-score   support\n",
            "\n",
            "           0       0.69      0.78      0.73       235\n",
            "           1       0.66      0.55      0.60       183\n",
            "\n",
            "    accuracy                           0.68       418\n",
            "   macro avg       0.67      0.66      0.66       418\n",
            "weighted avg       0.67      0.68      0.67       418\n",
            "\n"
          ]
        }
      ]
    },
    {
      "cell_type": "code",
      "metadata": {
        "execution": {
          "iopub.status.busy": "2021-10-23T21:10:58.619087Z",
          "iopub.execute_input": "2021-10-23T21:10:58.619276Z",
          "iopub.status.idle": "2021-10-23T21:10:58.753682Z",
          "shell.execute_reply.started": "2021-10-23T21:10:58.619253Z",
          "shell.execute_reply": "2021-10-23T21:10:58.752795Z"
        },
        "trusted": true,
        "colab": {
          "base_uri": "https://localhost:8080/",
          "height": 289
        },
        "id": "TBq3RTKekx-n",
        "outputId": "1d02b859-9cc4-47a9-fd5a-9e971c62bcc8"
      },
      "source": [
        "Survival = ['Did Not Survive','Survived']\n",
        "# Initialise class names \n",
        "classes = np.unique(Survival)\n",
        "\n",
        "# Display Confusion Matrix using Matplotlib\n",
        "\n",
        "cm = confusion_matrix(dt_predictions, y_test)\n",
        "fig, ax = plt.subplots()\n",
        "sns.heatmap(cm, annot=True, fmt='d', ax=ax, cmap=plt.cm.Blues, \n",
        "            cbar=False)\n",
        "ax.set(xlabel=\"Pred\", ylabel=\"True\",xticklabels='',yticklabels=classes\n",
        "       ,title=\"Confusion Matrix\")\n",
        "plt.yticks(rotation=0)\n",
        "\n",
        "plt.show()"
      ],
      "execution_count": 62,
      "outputs": [
        {
          "output_type": "display_data",
          "data": {
            "image/png": "[encoded data removed]",
            "text/plain": [
              "<Figure size 432x288 with 1 Axes>"
            ]
          },
          "metadata": {}
        }
      ]
    },
    {
      "cell_type": "code",
      "metadata": {
        "execution": {
          "iopub.status.busy": "2021-10-23T21:10:58.755193Z",
          "iopub.execute_input": "2021-10-23T21:10:58.75561Z",
          "iopub.status.idle": "2021-10-23T21:10:58.973011Z",
          "shell.execute_reply.started": "2021-10-23T21:10:58.755572Z",
          "shell.execute_reply": "2021-10-23T21:10:58.972322Z"
        },
        "trusted": true,
        "colab": {
          "base_uri": "https://localhost:8080/",
          "height": 299
        },
        "id": "rJbWIKbskx-n",
        "outputId": "d2e84c08-24db-4407-d616-ebcae95187b4"
      },
      "source": [
        "from sklearn.metrics import roc_curve, auc\n",
        "fpr_2, tpr_2, _ = roc_curve(dt_predictions,y_test)\n",
        "roc_auc_2 = auc(fpr_2, tpr_2)\n",
        "\n",
        "# Plot of a ROC curve for a specific class\n",
        "plt.figure()\n",
        "plt.plot(fpr_2, tpr_2, color='darkorange', label='ROC curve (area = %0.3f)' % roc_auc_2)\n",
        "plt.plot([0, 1], [0, 1], color='navy', lw=2, linestyle='--')\n",
        "plt.xlim([0.0, 1.0])\n",
        "plt.ylim([0.0, 1.05])\n",
        "plt.xlabel('False Positive Rate')\n",
        "plt.ylabel('True Positive Rate')\n",
        "plt.title('ROC Curve')\n",
        "plt.legend(loc=\"lower right\")\n",
        "plt.show()"
      ],
      "execution_count": 63,
      "outputs": [
        {
          "output_type": "display_data",
          "data": {
            "image/png": "[encoded data removed]",
            "text/plain": [
              "<Figure size 432x288 with 1 Axes>"
            ]
          },
          "metadata": {}
        }
      ]
    },
    {
      "cell_type": "markdown",
      "metadata": {
        "id": "98bWfe-8kx-n"
      },
      "source": [
        "### Random Forest Classifier"
      ]
    },
    {
      "cell_type": "code",
      "metadata": {
        "execution": {
          "iopub.status.busy": "2021-10-23T21:10:58.974441Z",
          "iopub.execute_input": "2021-10-23T21:10:58.974943Z",
          "iopub.status.idle": "2021-10-23T21:11:04.054089Z",
          "shell.execute_reply.started": "2021-10-23T21:10:58.974902Z",
          "shell.execute_reply": "2021-10-23T21:11:04.053343Z"
        },
        "trusted": true,
        "colab": {
          "base_uri": "https://localhost:8080/"
        },
        "id": "C2MaWM--kx-n",
        "outputId": "af5b7184-2eac-41df-8b20-c18688a12ff7"
      },
      "source": [
        "%%time\n",
        "\n",
        "rf = RandomForestClassifier(random_state=0,n_estimators=2500)\n",
        "\n",
        "rf.fit(X_train,y_train)"
      ],
      "execution_count": 64,
      "outputs": [
        {
          "output_type": "stream",
          "name": "stdout",
          "text": [
            "CPU times: user 5.38 s, sys: 84.9 ms, total: 5.46 s\n",
            "Wall time: 5.49 s\n"
          ]
        }
      ]
    },
    {
      "cell_type": "code",
      "metadata": {
        "execution": {
          "iopub.status.busy": "2021-10-23T21:11:04.055564Z",
          "iopub.execute_input": "2021-10-23T21:11:04.056034Z",
          "iopub.status.idle": "2021-10-23T21:11:04.378406Z",
          "shell.execute_reply.started": "2021-10-23T21:11:04.055996Z",
          "shell.execute_reply": "2021-10-23T21:11:04.377669Z"
        },
        "trusted": true,
        "id": "5YQtVcBdkx-n"
      },
      "source": [
        "\n",
        "rf_predictions = rf.predict(X_test)\n"
      ],
      "execution_count": 65,
      "outputs": []
    },
    {
      "cell_type": "code",
      "metadata": {
        "execution": {
          "iopub.status.busy": "2021-10-23T21:11:04.379595Z",
          "iopub.execute_input": "2021-10-23T21:11:04.379876Z",
          "iopub.status.idle": "2021-10-23T21:11:04.39761Z",
          "shell.execute_reply.started": "2021-10-23T21:11:04.37984Z",
          "shell.execute_reply": "2021-10-23T21:11:04.396851Z"
        },
        "trusted": true,
        "colab": {
          "base_uri": "https://localhost:8080/"
        },
        "id": "z3erS3ETkx-n",
        "outputId": "156d2f21-8328-4a02-8fcd-cac23e6c453a"
      },
      "source": [
        "print(f\"The accuracy for the Random Forest classifier model is: {accuracy_score(rf_predictions,y_test):.3f}\")\n",
        "print(f\"The f1 score for the Random Forest classifier model is: {f1_score(rf_predictions,y_test):.3f}\")\n",
        "print(f\"The recall score for the Random Forest classifier model is: {recall_score(rf_predictions,y_test):.3f}\")\n",
        "print(f\"The precision score for Random Forest classifier model is: {precision_score(rf_predictions,y_test):.3f}\")\n",
        "print(f\"The Kappa score Random Forest model is: {cohen_kappa_score(rf_predictions,y_test):.3f}\")"
      ],
      "execution_count": 66,
      "outputs": [
        {
          "output_type": "stream",
          "name": "stdout",
          "text": [
            "The accuracy for the Random Forest classifier model is: 0.804\n",
            "The f1 score for the Random Forest classifier model is: 0.728\n",
            "The recall score for the Random Forest classifier model is: 0.733\n",
            "The precision score for Random Forest classifier model is: 0.724\n",
            "The Kappa score Random Forest model is: 0.575\n"
          ]
        }
      ]
    },
    {
      "cell_type": "code",
      "metadata": {
        "execution": {
          "iopub.status.busy": "2021-10-23T21:11:04.399021Z",
          "iopub.execute_input": "2021-10-23T21:11:04.399287Z",
          "iopub.status.idle": "2021-10-23T21:11:04.411635Z",
          "shell.execute_reply.started": "2021-10-23T21:11:04.399251Z",
          "shell.execute_reply": "2021-10-23T21:11:04.410733Z"
        },
        "trusted": true,
        "colab": {
          "base_uri": "https://localhost:8080/"
        },
        "id": "oenDpTdWkx-n",
        "outputId": "95f58d0f-2834-4404-e246-bc866397bdcf"
      },
      "source": [
        "print(classification_report(rf_predictions,y_test))"
      ],
      "execution_count": 67,
      "outputs": [
        {
          "output_type": "stream",
          "name": "stdout",
          "text": [
            "              precision    recall  f1-score   support\n",
            "\n",
            "           0       0.85      0.84      0.85       268\n",
            "           1       0.72      0.73      0.73       150\n",
            "\n",
            "    accuracy                           0.80       418\n",
            "   macro avg       0.79      0.79      0.79       418\n",
            "weighted avg       0.80      0.80      0.80       418\n",
            "\n"
          ]
        }
      ]
    },
    {
      "cell_type": "code",
      "metadata": {
        "execution": {
          "iopub.status.busy": "2021-10-23T21:11:04.413109Z",
          "iopub.execute_input": "2021-10-23T21:11:04.413505Z",
          "iopub.status.idle": "2021-10-23T21:11:04.545996Z",
          "shell.execute_reply.started": "2021-10-23T21:11:04.413465Z",
          "shell.execute_reply": "2021-10-23T21:11:04.54511Z"
        },
        "trusted": true,
        "colab": {
          "base_uri": "https://localhost:8080/",
          "height": 289
        },
        "id": "M9lqiyWskx-o",
        "outputId": "8435fc4d-372e-474e-e427-aa10081dcb03"
      },
      "source": [
        "Survival = ['Did Not Survive','Survived']\n",
        "# Initialise class names \n",
        "classes = np.unique(Survival)\n",
        "\n",
        "# Display Confusion Matrix using Matplotlib\n",
        "\n",
        "cm = confusion_matrix(rf_predictions, y_test)\n",
        "fig, ax = plt.subplots()\n",
        "sns.heatmap(cm, annot=True, fmt='d', ax=ax, cmap=plt.cm.Blues, \n",
        "            cbar=False)\n",
        "ax.set(xlabel=\"Pred\", ylabel=\"True\",xticklabels='',yticklabels=classes\n",
        "       ,title=\"Confusion Matrix\")\n",
        "plt.yticks(rotation=0)\n",
        "\n",
        "plt.show()"
      ],
      "execution_count": 68,
      "outputs": [
        {
          "output_type": "display_data",
          "data": {
            "image/png": "[encoded data removed]",
            "text/plain": [
              "<Figure size 432x288 with 1 Axes>"
            ]
          },
          "metadata": {}
        }
      ]
    },
    {
      "cell_type": "code",
      "metadata": {
        "execution": {
          "iopub.status.busy": "2021-10-23T21:11:04.547618Z",
          "iopub.execute_input": "2021-10-23T21:11:04.548176Z",
          "iopub.status.idle": "2021-10-23T21:11:04.766908Z",
          "shell.execute_reply.started": "2021-10-23T21:11:04.548135Z",
          "shell.execute_reply": "2021-10-23T21:11:04.766211Z"
        },
        "trusted": true,
        "colab": {
          "base_uri": "https://localhost:8080/",
          "height": 299
        },
        "id": "jVjZXXcRkx-o",
        "outputId": "78c16db5-c519-4b5a-996d-1cb4a3223726"
      },
      "source": [
        "from sklearn.metrics import roc_curve, auc\n",
        "fp1, tpr_1, _ = roc_curve(rf_predictions,y_test)\n",
        "roc_auc_1 = auc(fp1, tpr_1)\n",
        "\n",
        "# Plot of a ROC curve for a specific class\n",
        "plt.figure()\n",
        "plt.plot(fp1, tpr_1, color='darkorange', label='ROC curve (area = %0.3f)' % roc_auc_1)\n",
        "plt.plot([0, 1], [0, 1], color='navy', lw=2, linestyle='--')\n",
        "plt.xlim([0.0, 1.0])\n",
        "plt.ylim([0.0, 1.05])\n",
        "plt.xlabel('False Positive Rate')\n",
        "plt.ylabel('True Positive Rate')\n",
        "plt.title('ROC Curve')\n",
        "plt.legend(loc=\"lower right\")\n",
        "plt.show()"
      ],
      "execution_count": 69,
      "outputs": [
        {
          "output_type": "display_data",
          "data": {
            "image/png": "[encoded data removed]",
            "text/plain": [
              "<Figure size 432x288 with 1 Axes>"
            ]
          },
          "metadata": {}
        }
      ]
    },
    {
      "cell_type": "markdown",
      "metadata": {
        "id": "69SnB366kx-o"
      },
      "source": [
        "### SVM Classifier"
      ]
    },
    {
      "cell_type": "code",
      "metadata": {
        "execution": {
          "iopub.status.busy": "2021-10-23T21:11:04.768339Z",
          "iopub.execute_input": "2021-10-23T21:11:04.768612Z",
          "iopub.status.idle": "2021-10-23T21:11:04.800067Z",
          "shell.execute_reply.started": "2021-10-23T21:11:04.768577Z",
          "shell.execute_reply": "2021-10-23T21:11:04.799337Z"
        },
        "trusted": true,
        "colab": {
          "base_uri": "https://localhost:8080/"
        },
        "id": "7L2ajS5Bkx-o",
        "outputId": "146ad61d-4815-4144-f88d-78c6dc22c8f1"
      },
      "source": [
        "%%time \n",
        "\n",
        "svc = SVC(random_state=0)\n",
        "\n",
        "svc.fit(X_train,y_train)"
      ],
      "execution_count": 70,
      "outputs": [
        {
          "output_type": "stream",
          "name": "stdout",
          "text": [
            "CPU times: user 30.6 ms, sys: 0 ns, total: 30.6 ms\n",
            "Wall time: 32.1 ms\n"
          ]
        }
      ]
    },
    {
      "cell_type": "code",
      "metadata": {
        "execution": {
          "iopub.status.busy": "2021-10-23T21:11:04.801204Z",
          "iopub.execute_input": "2021-10-23T21:11:04.801868Z",
          "iopub.status.idle": "2021-10-23T21:11:04.815327Z",
          "shell.execute_reply.started": "2021-10-23T21:11:04.801833Z",
          "shell.execute_reply": "2021-10-23T21:11:04.814375Z"
        },
        "trusted": true,
        "id": "S9Ac1atOkx-o"
      },
      "source": [
        "svc_predictions = svc.predict(X_test)"
      ],
      "execution_count": 71,
      "outputs": []
    },
    {
      "cell_type": "code",
      "metadata": {
        "execution": {
          "iopub.status.busy": "2021-10-23T21:11:04.817412Z",
          "iopub.execute_input": "2021-10-23T21:11:04.817931Z",
          "iopub.status.idle": "2021-10-23T21:11:04.832169Z",
          "shell.execute_reply.started": "2021-10-23T21:11:04.817894Z",
          "shell.execute_reply": "2021-10-23T21:11:04.831307Z"
        },
        "trusted": true,
        "colab": {
          "base_uri": "https://localhost:8080/"
        },
        "id": "Q_iiWoLEkx-o",
        "outputId": "b6a3523a-5881-4b4d-f8c1-c39c2ea2332c"
      },
      "source": [
        "print(f\"The accuracy for the support vector classifier model is: {accuracy_score(svc_predictions,y_test):.4f}\")\n",
        "print(f\"The f1 score for the support vector classifier model is: {f1_score(svc_predictions,y_test):.4f}\")\n",
        "print(f\"The recall score for the support vector classifier model is: {recall_score(svc_predictions,y_test):.3f}\")\n",
        "print(f\"The precision score for support vector classifier model is: {precision_score(svc_predictions,y_test):.3f}\")\n",
        "print(f\"The Kappa score support vector classifier model is: {cohen_kappa_score(svc_predictions,y_test):.3f}\")\n"
      ],
      "execution_count": 72,
      "outputs": [
        {
          "output_type": "stream",
          "name": "stdout",
          "text": [
            "The accuracy for the support vector classifier model is: 0.9545\n",
            "The f1 score for the support vector classifier model is: 0.9377\n",
            "The recall score for the support vector classifier model is: 0.935\n",
            "The precision score for support vector classifier model is: 0.941\n",
            "The Kappa score support vector classifier model is: 0.902\n"
          ]
        }
      ]
    },
    {
      "cell_type": "code",
      "metadata": {
        "execution": {
          "iopub.status.busy": "2021-10-23T21:11:04.835404Z",
          "iopub.execute_input": "2021-10-23T21:11:04.835857Z",
          "iopub.status.idle": "2021-10-23T21:11:04.847083Z",
          "shell.execute_reply.started": "2021-10-23T21:11:04.835821Z",
          "shell.execute_reply": "2021-10-23T21:11:04.846202Z"
        },
        "trusted": true,
        "colab": {
          "base_uri": "https://localhost:8080/"
        },
        "id": "6Gu6a_F-kx-o",
        "outputId": "cec86241-cbb3-4346-d4c8-f7c08b1ed390"
      },
      "source": [
        "print(classification_report(svc_predictions,y_test))"
      ],
      "execution_count": 73,
      "outputs": [
        {
          "output_type": "stream",
          "name": "stdout",
          "text": [
            "              precision    recall  f1-score   support\n",
            "\n",
            "           0       0.96      0.97      0.96       265\n",
            "           1       0.94      0.93      0.94       153\n",
            "\n",
            "    accuracy                           0.95       418\n",
            "   macro avg       0.95      0.95      0.95       418\n",
            "weighted avg       0.95      0.95      0.95       418\n",
            "\n"
          ]
        }
      ]
    },
    {
      "cell_type": "code",
      "metadata": {
        "execution": {
          "iopub.status.busy": "2021-10-23T21:11:04.848689Z",
          "iopub.execute_input": "2021-10-23T21:11:04.849085Z",
          "iopub.status.idle": "2021-10-23T21:11:04.985746Z",
          "shell.execute_reply.started": "2021-10-23T21:11:04.84905Z",
          "shell.execute_reply": "2021-10-23T21:11:04.984915Z"
        },
        "trusted": true,
        "colab": {
          "base_uri": "https://localhost:8080/",
          "height": 289
        },
        "id": "I97f3Eqqkx-p",
        "outputId": "fa92293e-3179-4355-c09c-a75835e0ce6c"
      },
      "source": [
        "Survival = ['Did Not Survive','Survived']\n",
        "# Initialise class names \n",
        "classes = np.unique(Survival)\n",
        "\n",
        "# Display Confusion Matrix using Matplotlib\n",
        "\n",
        "cm = confusion_matrix(svc_predictions, y_test)\n",
        "fig, ax = plt.subplots()\n",
        "sns.heatmap(cm, annot=True, fmt='d', ax=ax, cmap=plt.cm.Blues, \n",
        "            cbar=False)\n",
        "ax.set(xlabel=\"Pred\", ylabel=\"True\",xticklabels='',yticklabels=classes\n",
        "       ,title=\"Confusion Matrix\")\n",
        "plt.yticks(rotation=0)\n",
        "\n",
        "plt.show()"
      ],
      "execution_count": 74,
      "outputs": [
        {
          "output_type": "display_data",
          "data": {
            "image/png": "[encoded data removed]",
            "text/plain": [
              "<Figure size 432x288 with 1 Axes>"
            ]
          },
          "metadata": {}
        }
      ]
    },
    {
      "cell_type": "code",
      "metadata": {
        "execution": {
          "iopub.status.busy": "2021-10-23T21:11:04.987273Z",
          "iopub.execute_input": "2021-10-23T21:11:04.987764Z",
          "iopub.status.idle": "2021-10-23T21:11:05.212088Z",
          "shell.execute_reply.started": "2021-10-23T21:11:04.987722Z",
          "shell.execute_reply": "2021-10-23T21:11:05.211311Z"
        },
        "trusted": true,
        "colab": {
          "base_uri": "https://localhost:8080/",
          "height": 299
        },
        "id": "7O26wdOYkx-p",
        "outputId": "01117e0e-38c9-40b9-dde1-2f83be2d06f2"
      },
      "source": [
        "from sklearn.metrics import roc_curve, auc\n",
        "fpr, tpr, _ = roc_curve(svc_predictions,y_test)\n",
        "roc_auc = auc(fpr, tpr)\n",
        "\n",
        "# Plot of a ROC curve for a specific class\n",
        "plt.figure()\n",
        "plt.plot(fpr, tpr, color='darkorange', label='SVM ROC curve (area = %0.3f)' % roc_auc)\n",
        "plt.plot([0, 1], [0, 1], color='navy', lw=2, linestyle='--')\n",
        "plt.plot([0, 1], [0, 1], color='navy', lw=2, linestyle='--')\n",
        "plt.plot([0, 1], [0, 1], color='navy', lw=2, linestyle='--')\n",
        "plt.xlim([0.0, 1.0])\n",
        "plt.ylim([0.0, 1.05])\n",
        "plt.xlabel('False Positive Rate')\n",
        "plt.ylabel('True Positive Rate')\n",
        "plt.title('ROC Curve')\n",
        "plt.legend(loc=\"lower right\")\n",
        "plt.show()"
      ],
      "execution_count": 75,
      "outputs": [
        {
          "output_type": "display_data",
          "data": {
            "image/png": "[encoded data removed]",
            "text/plain": [
              "<Figure size 432x288 with 1 Axes>"
            ]
          },
          "metadata": {}
        }
      ]
    },
    {
      "cell_type": "markdown",
      "metadata": {
        "id": "5i9FTD8ekx-p"
      },
      "source": [
        "# Model Comparison"
      ]
    },
    {
      "cell_type": "code",
      "metadata": {
        "execution": {
          "iopub.status.busy": "2021-10-23T21:11:05.213623Z",
          "iopub.execute_input": "2021-10-23T21:11:05.214101Z",
          "iopub.status.idle": "2021-10-23T21:11:05.60104Z",
          "shell.execute_reply.started": "2021-10-23T21:11:05.214063Z",
          "shell.execute_reply": "2021-10-23T21:11:05.600341Z"
        },
        "trusted": true,
        "colab": {
          "base_uri": "https://localhost:8080/",
          "height": 299
        },
        "id": "6PKElnAJkx-p",
        "outputId": "401d0128-05e5-4ee8-ff4c-7fbb8f9fea83"
      },
      "source": [
        "from sklearn.metrics import roc_curve, auc\n",
        "fpr, tpr, _ = roc_curve(svc_predictions,y_test)\n",
        "roc_auc = auc(fpr, tpr)\n",
        "\n",
        "# Plot of a ROC curve for a specific class\n",
        "plt.figure()\n",
        "plt.plot(fpr, tpr, color='darkorange', label='SVM curve (area = %0.3f)' % roc_auc)\n",
        "plt.plot(fp1, tpr_1, color='blue', label='LR curve (area = %0.3f)' % roc_auc_1)\n",
        "plt.plot(fpr_2, tpr_2, color='red', label='DT curve (area = %0.3f)' % roc_auc_2)\n",
        "plt.plot(fpr_3, tpr_3, color='green', label='RF (area = %0.3f)' % roc_auc_3)\n",
        "plt.plot([0, 1], [0, 1], color='navy', lw=2, linestyle='--')\n",
        "plt.plot([0, 1], [0, 1], color='navy', lw=2, linestyle='--')\n",
        "plt.xlim([0.0, 1.0])\n",
        "plt.ylim([0.0, 1.05])\n",
        "plt.xlabel('False Positive Rate')\n",
        "plt.ylabel('True Positive Rate')\n",
        "plt.title('ROC Curve')\n",
        "plt.legend(loc=\"lower right\")\n",
        "plt.show()"
      ],
      "execution_count": 76,
      "outputs": [
        {
          "output_type": "display_data",
          "data": {
            "image/png": "[encoded data removed]",
            "text/plain": [
              "<Figure size 432x288 with 1 Axes>"
            ]
          },
          "metadata": {}
        }
      ]
    },
    {
      "cell_type": "markdown",
      "metadata": {
        "id": "cSRmVmK6kx-p"
      },
      "source": [
        "It is clear to see that the SVM has the edge with a ``` 95.00% ``` overall model Accuracy and the worst performer was the decision tree with``` 63.00% ```. All models were run using the default hyperparameters. With further tuning "
      ]
    },
    {
      "cell_type": "markdown",
      "metadata": {
        "id": "v1xZDFzZkx-p"
      },
      "source": [
        "# Hyperparameter Tuning Round"
      ]
    },
    {
      "cell_type": "markdown",
      "metadata": {
        "id": "kElsjH1Hkx-p"
      },
      "source": [
        "## Logistic Regression Hyperparameter Search"
      ]
    },
    {
      "cell_type": "code",
      "metadata": {
        "execution": {
          "iopub.status.busy": "2021-10-23T21:32:06.063737Z",
          "iopub.execute_input": "2021-10-23T21:32:06.064314Z",
          "iopub.status.idle": "2021-10-23T21:32:20.966862Z",
          "shell.execute_reply.started": "2021-10-23T21:32:06.064261Z",
          "shell.execute_reply": "2021-10-23T21:32:20.96609Z"
        },
        "trusted": true,
        "colab": {
          "base_uri": "https://localhost:8080/"
        },
        "id": "VhMNa50Ykx-p",
        "outputId": "5b85d1fc-5365-4868-8ac4-e4a0411e43d1"
      },
      "source": [
        "from sklearn.model_selection import RepeatedStratifiedKFold\n",
        "from sklearn.model_selection import GridSearchCV\n",
        "\n",
        "# Hyperparameter tuning for Logistic Regreesion\n",
        "solvers = ['newton-cg', 'lbfgs', 'liblinear']\n",
        "penalty = ['l2']\n",
        "c_values = [100, 10, 1.0, 0.1, 0.01]\n",
        "max_iter = [500,1000,2000]\n",
        "\n",
        "# Create a dictionary containing the grid of parameters to scan\n",
        "grid = dict(solver=solvers,penalty=penalty,C=c_values,max_iter=max_iter)\n",
        "cv = RepeatedStratifiedKFold(n_splits=10, n_repeats=3, random_state=1)\n",
        "grid_search = GridSearchCV(estimator=lr, param_grid=grid, n_jobs=-1, cv=cv, scoring='accuracy',error_score=0)\n",
        "grid_result = grid_search.fit(X_train, y_train)\n",
        "\n",
        "# Summarise results \n",
        "print(\"Best: %f using %s\" % (grid_result.best_score_, grid_result.best_params_))\n",
        "print('\\n')\n",
        "means = grid_result.cv_results_['mean_test_score']\n",
        "stds = grid_result.cv_results_['std_test_score']\n",
        "params = grid_result.cv_results_['params']\n",
        "for mean, stdev, param in zip(means, stds, params):\n",
        "    print(\"%f (%f) with: %r\" % (mean, stdev, param))"
      ],
      "execution_count": 77,
      "outputs": [
        {
          "output_type": "stream",
          "name": "stdout",
          "text": [
            "Best: 0.801677 using {'C': 0.1, 'max_iter': 500, 'penalty': 'l2', 'solver': 'newton-cg'}\n",
            "\n",
            "\n",
            "0.790794 (0.043214) with: {'C': 100, 'max_iter': 500, 'penalty': 'l2', 'solver': 'newton-cg'}\n",
            "0.790794 (0.043214) with: {'C': 100, 'max_iter': 500, 'penalty': 'l2', 'solver': 'lbfgs'}\n",
            "0.791169 (0.043515) with: {'C': 100, 'max_iter': 500, 'penalty': 'l2', 'solver': 'liblinear'}\n",
            "0.790794 (0.043214) with: {'C': 100, 'max_iter': 1000, 'penalty': 'l2', 'solver': 'newton-cg'}\n",
            "0.790794 (0.043214) with: {'C': 100, 'max_iter': 1000, 'penalty': 'l2', 'solver': 'lbfgs'}\n",
            "0.791169 (0.043515) with: {'C': 100, 'max_iter': 1000, 'penalty': 'l2', 'solver': 'liblinear'}\n",
            "0.790794 (0.043214) with: {'C': 100, 'max_iter': 2000, 'penalty': 'l2', 'solver': 'newton-cg'}\n",
            "0.790794 (0.043214) with: {'C': 100, 'max_iter': 2000, 'penalty': 'l2', 'solver': 'lbfgs'}\n",
            "0.791169 (0.043515) with: {'C': 100, 'max_iter': 2000, 'penalty': 'l2', 'solver': 'liblinear'}\n",
            "0.790794 (0.043214) with: {'C': 10, 'max_iter': 500, 'penalty': 'l2', 'solver': 'newton-cg'}\n",
            "0.790794 (0.043214) with: {'C': 10, 'max_iter': 500, 'penalty': 'l2', 'solver': 'lbfgs'}\n",
            "0.792297 (0.042529) with: {'C': 10, 'max_iter': 500, 'penalty': 'l2', 'solver': 'liblinear'}\n",
            "0.790794 (0.043214) with: {'C': 10, 'max_iter': 1000, 'penalty': 'l2', 'solver': 'newton-cg'}\n",
            "0.790794 (0.043214) with: {'C': 10, 'max_iter': 1000, 'penalty': 'l2', 'solver': 'lbfgs'}\n",
            "0.792297 (0.042529) with: {'C': 10, 'max_iter': 1000, 'penalty': 'l2', 'solver': 'liblinear'}\n",
            "0.790794 (0.043214) with: {'C': 10, 'max_iter': 2000, 'penalty': 'l2', 'solver': 'newton-cg'}\n",
            "0.790794 (0.043214) with: {'C': 10, 'max_iter': 2000, 'penalty': 'l2', 'solver': 'lbfgs'}\n",
            "0.792297 (0.042529) with: {'C': 10, 'max_iter': 2000, 'penalty': 'l2', 'solver': 'liblinear'}\n",
            "0.793420 (0.042411) with: {'C': 1.0, 'max_iter': 500, 'penalty': 'l2', 'solver': 'newton-cg'}\n",
            "0.793420 (0.042411) with: {'C': 1.0, 'max_iter': 500, 'penalty': 'l2', 'solver': 'lbfgs'}\n",
            "0.794548 (0.042246) with: {'C': 1.0, 'max_iter': 500, 'penalty': 'l2', 'solver': 'liblinear'}\n",
            "0.793420 (0.042411) with: {'C': 1.0, 'max_iter': 1000, 'penalty': 'l2', 'solver': 'newton-cg'}\n",
            "0.793420 (0.042411) with: {'C': 1.0, 'max_iter': 1000, 'penalty': 'l2', 'solver': 'lbfgs'}\n",
            "0.794548 (0.042246) with: {'C': 1.0, 'max_iter': 1000, 'penalty': 'l2', 'solver': 'liblinear'}\n",
            "0.793420 (0.042411) with: {'C': 1.0, 'max_iter': 2000, 'penalty': 'l2', 'solver': 'newton-cg'}\n",
            "0.793420 (0.042411) with: {'C': 1.0, 'max_iter': 2000, 'penalty': 'l2', 'solver': 'lbfgs'}\n",
            "0.794548 (0.042246) with: {'C': 1.0, 'max_iter': 2000, 'penalty': 'l2', 'solver': 'liblinear'}\n",
            "0.801677 (0.039606) with: {'C': 0.1, 'max_iter': 500, 'penalty': 'l2', 'solver': 'newton-cg'}\n",
            "0.801677 (0.039606) with: {'C': 0.1, 'max_iter': 500, 'penalty': 'l2', 'solver': 'lbfgs'}\n",
            "0.793424 (0.039938) with: {'C': 0.1, 'max_iter': 500, 'penalty': 'l2', 'solver': 'liblinear'}\n",
            "0.801677 (0.039606) with: {'C': 0.1, 'max_iter': 1000, 'penalty': 'l2', 'solver': 'newton-cg'}\n",
            "0.801677 (0.039606) with: {'C': 0.1, 'max_iter': 1000, 'penalty': 'l2', 'solver': 'lbfgs'}\n",
            "0.793424 (0.039938) with: {'C': 0.1, 'max_iter': 1000, 'penalty': 'l2', 'solver': 'liblinear'}\n",
            "0.801677 (0.039606) with: {'C': 0.1, 'max_iter': 2000, 'penalty': 'l2', 'solver': 'newton-cg'}\n",
            "0.801677 (0.039606) with: {'C': 0.1, 'max_iter': 2000, 'penalty': 'l2', 'solver': 'lbfgs'}\n",
            "0.793424 (0.039938) with: {'C': 0.1, 'max_iter': 2000, 'penalty': 'l2', 'solver': 'liblinear'}\n",
            "0.739377 (0.036726) with: {'C': 0.01, 'max_iter': 500, 'penalty': 'l2', 'solver': 'newton-cg'}\n",
            "0.739377 (0.036726) with: {'C': 0.01, 'max_iter': 500, 'penalty': 'l2', 'solver': 'lbfgs'}\n",
            "0.702256 (0.031670) with: {'C': 0.01, 'max_iter': 500, 'penalty': 'l2', 'solver': 'liblinear'}\n",
            "0.739377 (0.036726) with: {'C': 0.01, 'max_iter': 1000, 'penalty': 'l2', 'solver': 'newton-cg'}\n",
            "0.739377 (0.036726) with: {'C': 0.01, 'max_iter': 1000, 'penalty': 'l2', 'solver': 'lbfgs'}\n",
            "0.702256 (0.031670) with: {'C': 0.01, 'max_iter': 1000, 'penalty': 'l2', 'solver': 'liblinear'}\n",
            "0.739377 (0.036726) with: {'C': 0.01, 'max_iter': 2000, 'penalty': 'l2', 'solver': 'newton-cg'}\n",
            "0.739377 (0.036726) with: {'C': 0.01, 'max_iter': 2000, 'penalty': 'l2', 'solver': 'lbfgs'}\n",
            "0.702256 (0.031670) with: {'C': 0.01, 'max_iter': 2000, 'penalty': 'l2', 'solver': 'liblinear'}\n"
          ]
        }
      ]
    },
    {
      "cell_type": "markdown",
      "metadata": {
        "id": "ZppOf6Nlkx-p"
      },
      "source": [
        "## Support Vector Machine Hyperparameter Tuning "
      ]
    },
    {
      "cell_type": "code",
      "metadata": {
        "execution": {
          "iopub.status.busy": "2021-10-23T21:11:12.833725Z",
          "iopub.execute_input": "2021-10-23T21:11:12.834002Z",
          "iopub.status.idle": "2021-10-23T21:11:28.645809Z",
          "shell.execute_reply.started": "2021-10-23T21:11:12.833962Z",
          "shell.execute_reply": "2021-10-23T21:11:28.644928Z"
        },
        "trusted": true,
        "colab": {
          "base_uri": "https://localhost:8080/"
        },
        "id": "-ZkfANqGkx-q",
        "outputId": "882a1016-43e9-42b9-ef50-b5771790e944"
      },
      "source": [
        "# Hyperparameter tuning for Support Vector Machine\n",
        "kernel = ['poly', 'rbf', 'sigmoid']\n",
        "C = [50, 10, 1.0, 0.1, 0.01]\n",
        "gamma = ['scale']\n",
        "\n",
        "# Create a dictionary containing the grid of parameters to scan\n",
        "grid = dict(kernel=kernel,C=C,gamma=gamma)\n",
        "cv = RepeatedStratifiedKFold(n_splits=10, n_repeats=3, random_state=1)\n",
        "grid_search = GridSearchCV(estimator=svc, param_grid=grid, n_jobs=-1, cv=cv, scoring='accuracy',error_score=0)\n",
        "grid_result = grid_search.fit(X_train, y_train)\n",
        "\n",
        "# summarize results\n",
        "print(\"Best: %f using %s\" % (grid_result.best_score_, grid_result.best_params_))\n",
        "means = grid_result.cv_results_['mean_test_score']\n",
        "stds = grid_result.cv_results_['std_test_score']\n",
        "params = grid_result.cv_results_['params']\n",
        "for mean, stdev, param in zip(means, stds, params):\n",
        "    print(\"%f (%f) with: %r\" % (mean, stdev, param))\n"
      ],
      "execution_count": 78,
      "outputs": [
        {
          "output_type": "stream",
          "name": "stdout",
          "text": [
            "Best: 0.823421 using {'C': 1.0, 'gamma': 'scale', 'kernel': 'rbf'}\n",
            "0.816671 (0.041270) with: {'C': 50, 'gamma': 'scale', 'kernel': 'poly'}\n",
            "0.804294 (0.035393) with: {'C': 50, 'gamma': 'scale', 'kernel': 'rbf'}\n",
            "0.566190 (0.092893) with: {'C': 50, 'gamma': 'scale', 'kernel': 'sigmoid'}\n",
            "0.818910 (0.034921) with: {'C': 10, 'gamma': 'scale', 'kernel': 'poly'}\n",
            "0.820042 (0.036267) with: {'C': 10, 'gamma': 'scale', 'kernel': 'rbf'}\n",
            "0.548957 (0.080054) with: {'C': 10, 'gamma': 'scale', 'kernel': 'sigmoid'}\n",
            "0.809895 (0.037440) with: {'C': 1.0, 'gamma': 'scale', 'kernel': 'poly'}\n",
            "0.823421 (0.036295) with: {'C': 1.0, 'gamma': 'scale', 'kernel': 'rbf'}\n",
            "0.613764 (0.045603) with: {'C': 1.0, 'gamma': 'scale', 'kernel': 'sigmoid'}\n",
            "0.781814 (0.045795) with: {'C': 0.1, 'gamma': 'scale', 'kernel': 'poly'}\n",
            "0.799800 (0.041274) with: {'C': 0.1, 'gamma': 'scale', 'kernel': 'rbf'}\n",
            "0.634772 (0.035172) with: {'C': 0.1, 'gamma': 'scale', 'kernel': 'sigmoid'}\n",
            "0.658401 (0.039330) with: {'C': 0.01, 'gamma': 'scale', 'kernel': 'poly'}\n",
            "0.617543 (0.001302) with: {'C': 0.01, 'gamma': 'scale', 'kernel': 'rbf'}\n",
            "0.617543 (0.001302) with: {'C': 0.01, 'gamma': 'scale', 'kernel': 'sigmoid'}\n"
          ]
        }
      ]
    },
    {
      "cell_type": "markdown",
      "metadata": {
        "id": "2r2XKTImkx-q"
      },
      "source": [
        "# Random Forest Hyperparameter Tuning"
      ]
    },
    {
      "cell_type": "code",
      "metadata": {
        "execution": {
          "iopub.status.busy": "2021-10-23T21:11:28.647403Z",
          "iopub.execute_input": "2021-10-23T21:11:28.648102Z",
          "iopub.status.idle": "2021-10-23T21:13:18.381152Z",
          "shell.execute_reply.started": "2021-10-23T21:11:28.648035Z",
          "shell.execute_reply": "2021-10-23T21:13:18.380414Z"
        },
        "trusted": true,
        "colab": {
          "base_uri": "https://localhost:8080/"
        },
        "id": "HK-AqHO6kx-q",
        "outputId": "00dbb2f9-d6d7-48d8-80e3-134dd2a7ef88"
      },
      "source": [
        "# Hyperparameter tuning for Random Forest Classifier\n",
        "model = RandomForestClassifier()\n",
        "n_estimators = [10, 100, 1000]\n",
        "max_features = ['sqrt', 'log2']\n",
        "\n",
        "# Create a dictionary and grid of parameters to scan\n",
        "grid = dict(n_estimators=n_estimators,max_features=max_features)\n",
        "cv = RepeatedStratifiedKFold(n_splits=10, n_repeats=3, random_state=1)\n",
        "grid_search = GridSearchCV(estimator=rf, param_grid=grid, n_jobs=-1, cv=cv, scoring='accuracy',error_score=0)\n",
        "grid_result = grid_search.fit(X_train, y_train)\n",
        "\n",
        "\n",
        "# summarize results\n",
        "print(\"Best: %f using %s\" % (grid_result.best_score_, grid_result.best_params_))\n",
        "means = grid_result.cv_results_['mean_test_score']\n",
        "stds = grid_result.cv_results_['std_test_score']\n",
        "params = grid_result.cv_results_['params']\n",
        "for mean, stdev, param in zip(means, stds, params):\n",
        "    print(\"%f (%f) with: %r\" % (mean, stdev, param))\n"
      ],
      "execution_count": 79,
      "outputs": [
        {
          "output_type": "stream",
          "name": "stdout",
          "text": [
            "Best: 0.803520 using {'max_features': 'sqrt', 'n_estimators': 1000}\n",
            "0.797153 (0.040867) with: {'max_features': 'sqrt', 'n_estimators': 10}\n",
            "0.803145 (0.046534) with: {'max_features': 'sqrt', 'n_estimators': 100}\n",
            "0.803520 (0.045528) with: {'max_features': 'sqrt', 'n_estimators': 1000}\n",
            "0.797153 (0.040867) with: {'max_features': 'log2', 'n_estimators': 10}\n",
            "0.803145 (0.046534) with: {'max_features': 'log2', 'n_estimators': 100}\n",
            "0.803520 (0.045528) with: {'max_features': 'log2', 'n_estimators': 1000}\n"
          ]
        }
      ]
    },
    {
      "cell_type": "markdown",
      "metadata": {
        "id": "YQRJ8yUukx-q"
      },
      "source": [
        "## Submission"
      ]
    },
    {
      "cell_type": "code",
      "metadata": {
        "execution": {
          "iopub.status.busy": "2021-10-23T21:13:18.382581Z",
          "iopub.execute_input": "2021-10-23T21:13:18.38302Z",
          "iopub.status.idle": "2021-10-23T21:13:18.388398Z",
          "shell.execute_reply.started": "2021-10-23T21:13:18.38298Z",
          "shell.execute_reply": "2021-10-23T21:13:18.387724Z"
        },
        "trusted": true,
        "id": "pyvXV1Sgkx-q"
      },
      "source": [
        "submission = pd.DataFrame({'PassengerId':test_ids,'Survived':svc_predictions})"
      ],
      "execution_count": 80,
      "outputs": []
    },
    {
      "cell_type": "markdown",
      "metadata": {
        "id": "tpVsY8Kkkx-q"
      },
      "source": [
        "**Saving Submission**"
      ]
    },
    {
      "cell_type": "code",
      "metadata": {
        "execution": {
          "iopub.status.busy": "2021-10-23T21:13:18.38987Z",
          "iopub.execute_input": "2021-10-23T21:13:18.390132Z",
          "iopub.status.idle": "2021-10-23T21:13:18.402812Z",
          "shell.execute_reply.started": "2021-10-23T21:13:18.390097Z",
          "shell.execute_reply": "2021-10-23T21:13:18.401932Z"
        },
        "trusted": true,
        "id": "_pl4AhIOkx-q"
      },
      "source": [
        "submission.to_csv(\"./submission.csv\", index=False)"
      ],
      "execution_count": 81,
      "outputs": []
    }
  ]
}